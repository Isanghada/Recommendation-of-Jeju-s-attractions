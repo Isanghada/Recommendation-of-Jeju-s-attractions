{
 "cells": [
  {
   "cell_type": "markdown",
   "metadata": {},
   "source": [
    "# 데이터 수집"
   ]
  },
  {
   "cell_type": "markdown",
   "metadata": {},
   "source": [
    "## 카카오 API : 키워드 검색"
   ]
  },
  {
   "cell_type": "markdown",
   "metadata": {},
   "source": [
    "- 카카오 API 테스트\n",
    "  - 앱 ID : \n",
    "  - 네이티브 앱 키 : \n",
    "  - REST API 키 : \n",
    "  - JavaScript 키 : \n",
    "  - Admin 키 : "
   ]
  },
  {
   "cell_type": "markdown",
   "metadata": {},
   "source": [
    "- 키워드 검색\n",
    "  - 질의어를 통해 장소 검색 결과 반환\n",
    "  - category_group_name, category_name, place_url\n",
    "- 키워드 장소 검색 : 일간 100,000건\n",
    "- 검색 키워드 선정 :\n",
    "  - '맛집', '분위기 좋은', '테마파크' ,'오션뷰', '감성', '가족여행', '체험', '휴식', '레포츠', '가볼만한 곳'\n",
    "- 검색할 카테고리 선정 : 숙박을 제외하고 검색 진행\n",
    "  - CT1(문화시설), AT4(관광명소), FD6(음식점), CE7(카페), AD5(숙박)\n",
    "- 법정동·리 별로 검색 :<a href = 'https://ko.wikipedia.org/wiki/%EC%A0%9C%EC%A3%BC%EC%8B%9C%EC%9D%98_%ED%96%89%EC%A0%95_%EA%B5%AC%EC%97%AD' target='_blink'>제주시 위키백과</a> , <a href = \"https://ko.wikipedia.org/wiki/%EC%84%9C%EA%B7%80%ED%8F%AC%EC%8B%9C%EC%9D%98_%ED%96%89%EC%A0%95_%EA%B5%AC%EC%97%AD\" target=\"_blink\">서귀포시 위키백과</a>"
   ]
  },
  {
   "cell_type": "markdown",
   "metadata": {},
   "source": [
    "### 제주시"
   ]
  },
  {
   "cell_type": "markdown",
   "metadata": {},
   "source": [
    "#### 1. 카카오 API 카테고리와 직접 선정 키워드 활용"
   ]
  },
  {
   "cell_type": "code",
   "execution_count": 1,
   "metadata": {},
   "outputs": [
    {
     "data": {
      "text/html": [
       "<div>\n",
       "<style scoped>\n",
       "    .dataframe tbody tr th:only-of-type {\n",
       "        vertical-align: middle;\n",
       "    }\n",
       "\n",
       "    .dataframe tbody tr th {\n",
       "        vertical-align: top;\n",
       "    }\n",
       "\n",
       "    .dataframe thead th {\n",
       "        text-align: right;\n",
       "    }\n",
       "</style>\n",
       "<table border=\"1\" class=\"dataframe\">\n",
       "  <thead>\n",
       "    <tr style=\"text-align: right;\">\n",
       "      <th></th>\n",
       "      <th>이름</th>\n",
       "      <th>한자</th>\n",
       "      <th>인구</th>\n",
       "      <th>면적</th>\n",
       "      <th>법정동_리</th>\n",
       "    </tr>\n",
       "  </thead>\n",
       "  <tbody>\n",
       "    <tr>\n",
       "      <th>0</th>\n",
       "      <td>애월읍</td>\n",
       "      <td>涯月邑</td>\n",
       "      <td>31790</td>\n",
       "      <td>202.16</td>\n",
       "      <td>고내리,고성리,곽지리,광령리,구엄리,금성리,남읍리,봉성리,상가리,상귀리,소길리,수산...</td>\n",
       "    </tr>\n",
       "    <tr>\n",
       "      <th>1</th>\n",
       "      <td>조천읍</td>\n",
       "      <td>朝天邑</td>\n",
       "      <td>21547</td>\n",
       "      <td>150.64</td>\n",
       "      <td>교래리,대흘리,북촌리,선흘리,신촌리,신흥리,와산리,와흘리,조천리,함덕리</td>\n",
       "    </tr>\n",
       "    <tr>\n",
       "      <th>2</th>\n",
       "      <td>한림읍</td>\n",
       "      <td>翰林邑</td>\n",
       "      <td>23143</td>\n",
       "      <td>91.09</td>\n",
       "      <td>귀덕리,금능리,금악리,대림리,동명리,명월리,상대리,상명리,수원리,옹포리,월령리,월림...</td>\n",
       "    </tr>\n",
       "    <tr>\n",
       "      <th>3</th>\n",
       "      <td>구좌읍</td>\n",
       "      <td>舊左邑</td>\n",
       "      <td>15216</td>\n",
       "      <td>185.93</td>\n",
       "      <td>김녕리,덕천리,동복리,상도리,세화리,송당리,월정리,종달리,평대리,하도리,한동리,행원리</td>\n",
       "    </tr>\n",
       "    <tr>\n",
       "      <th>4</th>\n",
       "      <td>한경면</td>\n",
       "      <td>翰京面</td>\n",
       "      <td>8775</td>\n",
       "      <td>79.03</td>\n",
       "      <td>고산리,금등리,낙천리,두모리,신창리,용수리,저지리,조수리,청수리,판포리</td>\n",
       "    </tr>\n",
       "  </tbody>\n",
       "</table>\n",
       "</div>"
      ],
      "text/plain": [
       "    이름   한자     인구      면적                                              법정동_리\n",
       "0  애월읍  涯月邑  31790  202.16  고내리,고성리,곽지리,광령리,구엄리,금성리,남읍리,봉성리,상가리,상귀리,소길리,수산...\n",
       "1  조천읍  朝天邑  21547  150.64            교래리,대흘리,북촌리,선흘리,신촌리,신흥리,와산리,와흘리,조천리,함덕리\n",
       "2  한림읍  翰林邑  23143   91.09  귀덕리,금능리,금악리,대림리,동명리,명월리,상대리,상명리,수원리,옹포리,월령리,월림...\n",
       "3  구좌읍  舊左邑  15216  185.93    김녕리,덕천리,동복리,상도리,세화리,송당리,월정리,종달리,평대리,하도리,한동리,행원리\n",
       "4  한경면  翰京面   8775   79.03            고산리,금등리,낙천리,두모리,신창리,용수리,저지리,조수리,청수리,판포리"
      ]
     },
     "execution_count": 1,
     "metadata": {},
     "output_type": "execute_result"
    }
   ],
   "source": [
    "# 제주시\n",
    "import pandas as pd\n",
    "\n",
    "jeju_range = pd.read_excel('제주도_제주시_법정동_리.xlsx')\n",
    "jeju_range.head()"
   ]
  },
  {
   "cell_type": "markdown",
   "metadata": {},
   "source": [
    "##### ◽카테고리, 키워드, 지역 변수"
   ]
  },
  {
   "cell_type": "code",
   "execution_count": 3,
   "metadata": {},
   "outputs": [],
   "source": [
    "keywords = ['맛집', '분위기 좋은', '테마파크' ,'오션뷰', '감성', '가족여행', '체험', '휴식', '레포츠', '가볼만한 곳']\n",
    "categorys = ['CT1', 'AT4', 'FD6', 'CE7']\n",
    "categorys_info = {'CT1' : '문화시설', 'AT4' : '관광명소', 'FD6' : '음식점', 'CE7' : '카페'}"
   ]
  },
  {
   "cell_type": "code",
   "execution_count": 4,
   "metadata": {},
   "outputs": [
    {
     "data": {
      "text/plain": [
       "['고내리', '고성리', '곽지리', '광령리', '구엄리']"
      ]
     },
     "execution_count": 4,
     "metadata": {},
     "output_type": "execute_result"
    }
   ],
   "source": [
    "# 법정동_리를 split을 활용하여 나눔 example\n",
    "jeju_range['법정동_리'][0].split(',')[:5]"
   ]
  },
  {
   "cell_type": "markdown",
   "metadata": {},
   "source": [
    "#### ◽카카오 API(키워드 검색) JSON 형식\n",
    "  - 'documents' : ['address_name', 'category_group_code', 'category_group_name', 'category_name', 'distance', 'id', 'phone', 'place_name', 'place_url', 'road_address_name', 'x', 'y']\n",
    "  - 'meta' : ['is_end', 'pageable_count', 'same_name', 'total_count']"
   ]
  },
  {
   "cell_type": "markdown",
   "metadata": {},
   "source": [
    "##### ◽카카오 API 활용 함수\n",
    "- (키워드, 카테고리, 법정동_리) 검색 함수"
   ]
  },
  {
   "cell_type": "code",
   "execution_count": null,
   "metadata": {},
   "outputs": [],
   "source": [
    "import json\n",
    "import requests\n",
    "\n",
    "def search_result(keyword, category, jeju_name):\n",
    "    result = []\n",
    "\n",
    "    # REST 키\n",
    "    rest_api_key = ''\n",
    "    # 헤더\n",
    "    headers = {\"Authorization\" : \"KakaoAK {}\".format(rest_api_key)}\n",
    "    # 파라미터\n",
    "    params = {\"query\" : f\"제주특별자치도 {jeju_name} {keyword}\", \"page\" : 1, \"category_group_code\" : f\"{category}\"}\n",
    "    url = \"https://dapi.kakao.com/v2/local/search/keyword.json\"\n",
    "\n",
    "    while True:\n",
    "        # GET을 이용하여 획득\n",
    "        res = requests.get(url, headers=headers, params=params)\n",
    "        if res.status_code == 200:\n",
    "            # Json을 이용하여 해제\n",
    "            doc = json.loads(res.text)\n",
    "            result.extend(doc['documents'])\n",
    "            if doc['meta']['is_end'] == True:\n",
    "                break\n",
    "            else:\n",
    "                params['page'] += 1\n",
    "    return result"
   ]
  },
  {
   "cell_type": "markdown",
   "metadata": {},
   "source": [
    "- 전체 결과 데이터 프레임 반환 함수"
   ]
  },
  {
   "cell_type": "code",
   "execution_count": null,
   "metadata": {},
   "outputs": [],
   "source": [
    "import pandas as pd\n",
    "from tqdm.notebook import tqdm\n",
    "\n",
    "def search_df():\n",
    "    results = []\n",
    "    for idx, row in tqdm(jeju_range.iterrows()):\n",
    "        for jeju in row['법정동_리'].split(','):\n",
    "            for category in categorys:\n",
    "                for key in keywords:\n",
    "                    r = pd.DataFrame(search_result(key, category, jeju))\n",
    "                    r['keyword'] = key\n",
    "                    results.append(r.copy())\n",
    "    return pd.concat(results).reset_index(drop=True)jeju_poi.head(2)"
   ]
  },
  {
   "cell_type": "markdown",
   "metadata": {},
   "source": [
    "- 카카오 API 활용 데이터 획득"
   ]
  },
  {
   "cell_type": "code",
   "execution_count": null,
   "metadata": {},
   "outputs": [],
   "source": [
    "jeju_poi = search_df()\n",
    "jeju_poi.to_excel('./data/220114/제주도_POI(API).xlsx',index=False)"
   ]
  },
  {
   "cell_type": "code",
   "execution_count": null,
   "metadata": {},
   "outputs": [
    {
     "data": {
      "text/html": [
       "<div>\n",
       "<style scoped>\n",
       "    .dataframe tbody tr th:only-of-type {\n",
       "        vertical-align: middle;\n",
       "    }\n",
       "\n",
       "    .dataframe tbody tr th {\n",
       "        vertical-align: top;\n",
       "    }\n",
       "\n",
       "    .dataframe thead th {\n",
       "        text-align: right;\n",
       "    }\n",
       "</style>\n",
       "<table border=\"1\" class=\"dataframe\">\n",
       "  <thead>\n",
       "    <tr style=\"text-align: right;\">\n",
       "      <th></th>\n",
       "      <th>keyword</th>\n",
       "      <th>address_name</th>\n",
       "      <th>category_group_code</th>\n",
       "      <th>category_group_name</th>\n",
       "      <th>category_name</th>\n",
       "      <th>distance</th>\n",
       "      <th>id</th>\n",
       "      <th>phone</th>\n",
       "      <th>place_name</th>\n",
       "      <th>place_url</th>\n",
       "      <th>road_address_name</th>\n",
       "      <th>x</th>\n",
       "      <th>y</th>\n",
       "    </tr>\n",
       "  </thead>\n",
       "  <tbody>\n",
       "    <tr>\n",
       "      <th>0</th>\n",
       "      <td>테마파크</td>\n",
       "      <td>제주특별자치도 제주시 연동 1320</td>\n",
       "      <td>CT1</td>\n",
       "      <td>문화시설</td>\n",
       "      <td>문화,예술 &gt; 문화시설 &gt; 박물관</td>\n",
       "      <td></td>\n",
       "      <td>26388484</td>\n",
       "      <td>064-742-3700</td>\n",
       "      <td>수목원테마파크 아이스뮤지엄</td>\n",
       "      <td>http://place.map.kakao.com/26388484</td>\n",
       "      <td>제주특별자치도 제주시 은수길 69</td>\n",
       "      <td>126.488397743899</td>\n",
       "      <td>33.4707773213401</td>\n",
       "    </tr>\n",
       "    <tr>\n",
       "      <th>1</th>\n",
       "      <td>테마파크</td>\n",
       "      <td>제주특별자치도 제주시 애월읍 신엄리 2880-12</td>\n",
       "      <td>AT4</td>\n",
       "      <td>관광명소</td>\n",
       "      <td>여행 &gt; 관광,명소 &gt; 테마파크</td>\n",
       "      <td></td>\n",
       "      <td>1129394481</td>\n",
       "      <td>064-748-4245</td>\n",
       "      <td>고스트타운</td>\n",
       "      <td>http://place.map.kakao.com/1129394481</td>\n",
       "      <td>제주특별자치도 제주시 애월읍 부룡수길 35-14</td>\n",
       "      <td>126.35693587972</td>\n",
       "      <td>33.4761948388957</td>\n",
       "    </tr>\n",
       "  </tbody>\n",
       "</table>\n",
       "</div>"
      ],
      "text/plain": [
       "  keyword                 address_name category_group_code  \\\n",
       "0    테마파크          제주특별자치도 제주시 연동 1320                 CT1   \n",
       "1    테마파크  제주특별자치도 제주시 애월읍 신엄리 2880-12                 AT4   \n",
       "\n",
       "  category_group_name       category_name distance          id         phone  \\\n",
       "0                문화시설  문화,예술 > 문화시설 > 박물관             26388484  064-742-3700   \n",
       "1                관광명소   여행 > 관광,명소 > 테마파크           1129394481  064-748-4245   \n",
       "\n",
       "       place_name                              place_url  \\\n",
       "0  수목원테마파크 아이스뮤지엄    http://place.map.kakao.com/26388484   \n",
       "1           고스트타운  http://place.map.kakao.com/1129394481   \n",
       "\n",
       "            road_address_name                 x                 y  \n",
       "0          제주특별자치도 제주시 은수길 69  126.488397743899  33.4707773213401  \n",
       "1  제주특별자치도 제주시 애월읍 부룡수길 35-14   126.35693587972  33.4761948388957  "
      ]
     },
     "metadata": {},
     "output_type": "display_data"
    }
   ],
   "source": [
    "jeju_poi.head(2)"
   ]
  },
  {
   "cell_type": "markdown",
   "metadata": {},
   "source": [
    "#### ◽데이터 확인(제주도_POI(API))\n",
    "- 기본 정보 확인\n",
    "  - NaN 데이터는 존재하지 않는다.\n",
    "- distance 컬럼은 값이 존재하지 않음\n",
    "- 엑셀을 통해 중복(id) 제거"
   ]
  },
  {
   "cell_type": "code",
   "execution_count": null,
   "metadata": {},
   "outputs": [
    {
     "name": "stdout",
     "output_type": "stream",
     "text": [
      "<class 'pandas.core.frame.DataFrame'>\n",
      "RangeIndex: 5943 entries, 0 to 5942\n",
      "Data columns (total 13 columns):\n",
      " #   Column               Non-Null Count  Dtype  \n",
      "---  ------               --------------  -----  \n",
      " 0   keyword              5943 non-null   object \n",
      " 1   address_name         5943 non-null   object \n",
      " 2   category_group_code  5943 non-null   object \n",
      " 3   category_group_name  5943 non-null   object \n",
      " 4   category_name        5943 non-null   object \n",
      " 5   distance             0 non-null      float64\n",
      " 6   id                   5943 non-null   int64  \n",
      " 7   phone                3915 non-null   object \n",
      " 8   place_name           5943 non-null   object \n",
      " 9   place_url            5943 non-null   object \n",
      " 10  road_address_name    5224 non-null   object \n",
      " 11  x                    5943 non-null   float64\n",
      " 12  y                    5943 non-null   float64\n",
      "dtypes: float64(3), int64(1), object(9)\n",
      "memory usage: 603.7+ KB\n"
     ]
    }
   ],
   "source": [
    "import pandas as pd\n",
    "\n",
    "api_poi = pd.read_excel('./data/220114/제주도_POI(API)3.xlsx', index_col=False)\n",
    "api_poi.info()"
   ]
  },
  {
   "cell_type": "code",
   "execution_count": null,
   "metadata": {},
   "outputs": [
    {
     "data": {
      "text/html": [
       "<div>\n",
       "<style scoped>\n",
       "    .dataframe tbody tr th:only-of-type {\n",
       "        vertical-align: middle;\n",
       "    }\n",
       "\n",
       "    .dataframe tbody tr th {\n",
       "        vertical-align: top;\n",
       "    }\n",
       "\n",
       "    .dataframe thead th {\n",
       "        text-align: right;\n",
       "    }\n",
       "</style>\n",
       "<table border=\"1\" class=\"dataframe\">\n",
       "  <thead>\n",
       "    <tr style=\"text-align: right;\">\n",
       "      <th></th>\n",
       "      <th>keyword</th>\n",
       "    </tr>\n",
       "  </thead>\n",
       "  <tbody>\n",
       "    <tr>\n",
       "      <th>맛집</th>\n",
       "      <td>4768</td>\n",
       "    </tr>\n",
       "    <tr>\n",
       "      <th>가볼만한 곳</th>\n",
       "      <td>802</td>\n",
       "    </tr>\n",
       "    <tr>\n",
       "      <th>분위기 좋은</th>\n",
       "      <td>260</td>\n",
       "    </tr>\n",
       "    <tr>\n",
       "      <th>테마파크</th>\n",
       "      <td>59</td>\n",
       "    </tr>\n",
       "    <tr>\n",
       "      <th>오션뷰</th>\n",
       "      <td>22</td>\n",
       "    </tr>\n",
       "    <tr>\n",
       "      <th>감성</th>\n",
       "      <td>19</td>\n",
       "    </tr>\n",
       "    <tr>\n",
       "      <th>체험</th>\n",
       "      <td>5</td>\n",
       "    </tr>\n",
       "    <tr>\n",
       "      <th>가족여행</th>\n",
       "      <td>4</td>\n",
       "    </tr>\n",
       "    <tr>\n",
       "      <th>휴식</th>\n",
       "      <td>2</td>\n",
       "    </tr>\n",
       "    <tr>\n",
       "      <th>레포츠</th>\n",
       "      <td>2</td>\n",
       "    </tr>\n",
       "  </tbody>\n",
       "</table>\n",
       "</div>"
      ],
      "text/plain": [
       "        keyword\n",
       "맛집         4768\n",
       "가볼만한 곳      802\n",
       "분위기 좋은      260\n",
       "테마파크         59\n",
       "오션뷰          22\n",
       "감성           19\n",
       "체험            5\n",
       "가족여행          4\n",
       "휴식            2\n",
       "레포츠           2"
      ]
     },
     "metadata": {},
     "output_type": "display_data"
    }
   ],
   "source": [
    "pd.DataFrame(api_poi['keyword'].value_counts())"
   ]
  },
  {
   "cell_type": "code",
   "execution_count": null,
   "metadata": {},
   "outputs": [
    {
     "data": {
      "text/html": [
       "<div>\n",
       "<style scoped>\n",
       "    .dataframe tbody tr th:only-of-type {\n",
       "        vertical-align: middle;\n",
       "    }\n",
       "\n",
       "    .dataframe tbody tr th {\n",
       "        vertical-align: top;\n",
       "    }\n",
       "\n",
       "    .dataframe thead th {\n",
       "        text-align: right;\n",
       "    }\n",
       "</style>\n",
       "<table border=\"1\" class=\"dataframe\">\n",
       "  <thead>\n",
       "    <tr style=\"text-align: right;\">\n",
       "      <th></th>\n",
       "      <th>category_group_name</th>\n",
       "    </tr>\n",
       "  </thead>\n",
       "  <tbody>\n",
       "    <tr>\n",
       "      <th>음식점</th>\n",
       "      <td>3028</td>\n",
       "    </tr>\n",
       "    <tr>\n",
       "      <th>카페</th>\n",
       "      <td>2048</td>\n",
       "    </tr>\n",
       "    <tr>\n",
       "      <th>관광명소</th>\n",
       "      <td>855</td>\n",
       "    </tr>\n",
       "    <tr>\n",
       "      <th>문화시설</th>\n",
       "      <td>12</td>\n",
       "    </tr>\n",
       "  </tbody>\n",
       "</table>\n",
       "</div>"
      ],
      "text/plain": [
       "      category_group_name\n",
       "음식점                  3028\n",
       "카페                   2048\n",
       "관광명소                  855\n",
       "문화시설                   12"
      ]
     },
     "metadata": {},
     "output_type": "display_data"
    }
   ],
   "source": [
    "pd.DataFrame(api_poi['category_group_name'].value_counts())"
   ]
  },
  {
   "cell_type": "markdown",
   "metadata": {},
   "source": [
    "#### ◽id 중복 처리 : 키워드 합치기\n",
    "- id 중복 확인\n",
    "- id 값으로 조회하여 값이 2개이상인 경우\n",
    "  - 각 데이터의 키워드를 합치고 1개의 행만 남긴다.\n",
    "  - included : 중복된 id일 경우를 식별하기 위해 dict형으로 확인한 경우 추가\n",
    "  - del_index : 중복된 id의 인덱스 중 1개만 사용할 것이기에 삭제할 인덱스 추가"
   ]
  },
  {
   "cell_type": "code",
   "execution_count": null,
   "metadata": {},
   "outputs": [],
   "source": [
    "import pandas as pd\n",
    "\n",
    "api_poi = pd.read_excel('./data/220114/제주도_POI(API)3.xlsx', index_col=False)"
   ]
  },
  {
   "cell_type": "code",
   "execution_count": null,
   "metadata": {},
   "outputs": [],
   "source": [
    "included = {}\n",
    "del_index = []\n",
    "for idx, row in api_poi.iterrows():\n",
    "    id = row['id']\n",
    "    temp = api_poi[api_poi['id'] == id].copy()\n",
    "    cnt = len(temp)\n",
    "    if id not in included and cnt > 1:\n",
    "        included[id] = True\n",
    "        for i, r in temp.iterrows():\n",
    "            if idx == i:\n",
    "                continue\n",
    "            else:\n",
    "                api_poi.loc[idx, 'keyword'] = api_poi.loc[idx, 'keyword'] + ',' + r['keyword']\n",
    "                del_index.append(i)"
   ]
  },
  {
   "cell_type": "code",
   "execution_count": null,
   "metadata": {},
   "outputs": [
    {
     "data": {
      "text/plain": [
       "(194, 197)"
      ]
     },
     "metadata": {},
     "output_type": "display_data"
    }
   ],
   "source": [
    "# 중복 id의 수, 삭제할 인덱스의 수\n",
    "len(included.keys()), len(del_index)"
   ]
  },
  {
   "cell_type": "code",
   "execution_count": null,
   "metadata": {},
   "outputs": [],
   "source": [
    "# 중복 id의 인덱스 삭제\n",
    "api_poi_del = api_poi.drop(del_index, axis=0)"
   ]
  },
  {
   "cell_type": "code",
   "execution_count": null,
   "metadata": {},
   "outputs": [
    {
     "name": "stdout",
     "output_type": "stream",
     "text": [
      "<class 'pandas.core.frame.DataFrame'>\n",
      "Int64Index: 5746 entries, 0 to 5942\n",
      "Data columns (total 13 columns):\n",
      " #   Column               Non-Null Count  Dtype  \n",
      "---  ------               --------------  -----  \n",
      " 0   keyword              5746 non-null   object \n",
      " 1   address_name         5746 non-null   object \n",
      " 2   category_group_code  5746 non-null   object \n",
      " 3   category_group_name  5746 non-null   object \n",
      " 4   category_name        5746 non-null   object \n",
      " 5   distance             0 non-null      float64\n",
      " 6   id                   5746 non-null   int64  \n",
      " 7   phone                3765 non-null   object \n",
      " 8   place_name           5746 non-null   object \n",
      " 9   place_url            5746 non-null   object \n",
      " 10  road_address_name    5030 non-null   object \n",
      " 11  x                    5746 non-null   float64\n",
      " 12  y                    5746 non-null   float64\n",
      "dtypes: float64(3), int64(1), object(9)\n",
      "memory usage: 628.5+ KB\n"
     ]
    }
   ],
   "source": [
    "api_poi_del.info()"
   ]
  },
  {
   "cell_type": "code",
   "execution_count": null,
   "metadata": {},
   "outputs": [],
   "source": [
    "api_poi_del.to_excel('./data/220114/제주도_POI(API)4.xlsx', index=False)"
   ]
  },
  {
   "cell_type": "code",
   "execution_count": null,
   "metadata": {},
   "outputs": [
    {
     "name": "stdout",
     "output_type": "stream",
     "text": [
      "<class 'pandas.core.frame.DataFrame'>\n",
      "RangeIndex: 5746 entries, 0 to 5745\n",
      "Data columns (total 13 columns):\n",
      " #   Column               Non-Null Count  Dtype  \n",
      "---  ------               --------------  -----  \n",
      " 0   keyword              5746 non-null   object \n",
      " 1   address_name         5746 non-null   object \n",
      " 2   category_group_code  5746 non-null   object \n",
      " 3   category_group_name  5746 non-null   object \n",
      " 4   category_name        5746 non-null   object \n",
      " 5   distance             0 non-null      float64\n",
      " 6   id                   5746 non-null   int64  \n",
      " 7   phone                3765 non-null   object \n",
      " 8   place_name           5746 non-null   object \n",
      " 9   place_url            5746 non-null   object \n",
      " 10  road_address_name    5030 non-null   object \n",
      " 11  x                    5746 non-null   float64\n",
      " 12  y                    5746 non-null   float64\n",
      "dtypes: float64(3), int64(1), object(9)\n",
      "memory usage: 583.7+ KB\n"
     ]
    }
   ],
   "source": [
    "# id 중복 제거 데이터 확인(제주도_POI(API)4)\n",
    "import pandas as pd\n",
    "\n",
    "api_poi_del = pd.read_excel('./data/220114/제주도_POI(API)4.xlsx', index_col=False)\n",
    "api_poi_del.info()"
   ]
  },
  {
   "cell_type": "markdown",
   "metadata": {},
   "source": [
    "- 행의 수와 id의 수가 일치하므로 중복된 id가 없음을 확인할 수 있다."
   ]
  },
  {
   "cell_type": "code",
   "execution_count": null,
   "metadata": {},
   "outputs": [
    {
     "data": {
      "text/plain": [
       "5746"
      ]
     },
     "metadata": {},
     "output_type": "display_data"
    }
   ],
   "source": [
    "len(api_poi_del['id'].unique())"
   ]
  },
  {
   "cell_type": "code",
   "execution_count": null,
   "metadata": {},
   "outputs": [
    {
     "data": {
      "text/html": [
       "<div>\n",
       "<style scoped>\n",
       "    .dataframe tbody tr th:only-of-type {\n",
       "        vertical-align: middle;\n",
       "    }\n",
       "\n",
       "    .dataframe tbody tr th {\n",
       "        vertical-align: top;\n",
       "    }\n",
       "\n",
       "    .dataframe thead th {\n",
       "        text-align: right;\n",
       "    }\n",
       "</style>\n",
       "<table border=\"1\" class=\"dataframe\">\n",
       "  <thead>\n",
       "    <tr style=\"text-align: right;\">\n",
       "      <th></th>\n",
       "      <th>category_group_name</th>\n",
       "    </tr>\n",
       "  </thead>\n",
       "  <tbody>\n",
       "    <tr>\n",
       "      <th>음식점</th>\n",
       "      <td>2969</td>\n",
       "    </tr>\n",
       "    <tr>\n",
       "      <th>카페</th>\n",
       "      <td>1950</td>\n",
       "    </tr>\n",
       "    <tr>\n",
       "      <th>관광명소</th>\n",
       "      <td>815</td>\n",
       "    </tr>\n",
       "    <tr>\n",
       "      <th>문화시설</th>\n",
       "      <td>12</td>\n",
       "    </tr>\n",
       "  </tbody>\n",
       "</table>\n",
       "</div>"
      ],
      "text/plain": [
       "      category_group_name\n",
       "음식점                  2969\n",
       "카페                   1950\n",
       "관광명소                  815\n",
       "문화시설                   12"
      ]
     },
     "metadata": {},
     "output_type": "display_data"
    }
   ],
   "source": [
    "pd.DataFrame(api_poi_del['category_group_name'].value_counts())"
   ]
  },
  {
   "cell_type": "markdown",
   "metadata": {},
   "source": [
    "### 서귀포시"
   ]
  },
  {
   "cell_type": "markdown",
   "metadata": {},
   "source": [
    "- 수집된 데이터를 확인한 결과 '서귀포' 데이터가 없는 것을 확인\n",
    "- 서귀포에 대한 부분만 새로 획득"
   ]
  },
  {
   "cell_type": "markdown",
   "metadata": {},
   "source": [
    "#### 1. 카카오 API 카테고리와 직접 선정 키워드 활용"
   ]
  },
  {
   "cell_type": "markdown",
   "metadata": {},
   "source": [
    "##### ◽카테고리, 키워드, 지역 변수"
   ]
  },
  {
   "cell_type": "code",
   "execution_count": 1,
   "metadata": {},
   "outputs": [],
   "source": [
    "keywords = ['맛집', '분위기 좋은', '테마파크' ,'오션뷰', '감성', '가족여행', '체험', '휴식', '레포츠', '가볼만한 곳']\n",
    "categorys = ['CT1', 'AT4', 'FD6', 'CE7']\n",
    "categorys_info = {'CT1' : '문화시설', 'AT4' : '관광명소', 'FD6' : '음식점', 'CE7' : '카페'}\n",
    "jeju_range = ['법환동', '서호동', '호근동', '강정동', '도순동', '영남동', '월평동', '동홍동', '서홍동', \n",
    "            '보목동','서귀동','토평동', '상효동', '상예동', '색달동', '하예동', '대포동', '중문동', '하원동',\n",
    "             '회수동', '신효동', '하효동']"
   ]
  },
  {
   "cell_type": "markdown",
   "metadata": {},
   "source": [
    "##### ◽카카오 API 활용 함수\n",
    "- (키워드, 카테고리, 법정동_리) 검색 함수\n",
    "- search_result(keyword, category, jeju_name)\n",
    "  - (카테고리, 법정동_리) 검색 함수"
   ]
  },
  {
   "cell_type": "code",
   "execution_count": null,
   "metadata": {},
   "outputs": [],
   "source": [
    "import json\n",
    "import requests\n",
    "\n",
    "def search_result(keyword, category, jeju_name):\n",
    "    result = []\n",
    "\n",
    "    # REST 키\n",
    "    rest_api_key = 'API Key'\n",
    "    # 헤더\n",
    "    headers = {\"Authorization\" : \"KakaoAK {}\".format(rest_api_key)}\n",
    "    # 파라미터\n",
    "    params = {\"query\" : f\"제주특별자치도 {jeju_name} {keyword}\", \"page\" : 1, \"category_group_code\" : f\"{category}\"}\n",
    "    url = \"https://dapi.kakao.com/v2/local/search/keyword.json\"\n",
    "\n",
    "    while True:\n",
    "        # GET을 이용하여 획득\n",
    "        res = requests.get(url, headers=headers, params=params)\n",
    "        if res.status_code == 200:\n",
    "            # Json을 이용하여 해제\n",
    "            doc = json.loads(res.text)\n",
    "            result.extend(doc['documents'])\n",
    "            if doc['meta']['is_end'] == True:\n",
    "                break\n",
    "            else:\n",
    "                params['page'] += 1\n",
    "    return result"
   ]
  },
  {
   "cell_type": "markdown",
   "metadata": {},
   "source": [
    "- 전체 결과 데이터 프레임 반환 함수"
   ]
  },
  {
   "cell_type": "code",
   "execution_count": null,
   "metadata": {},
   "outputs": [],
   "source": [
    "import pandas as pd\n",
    "from tqdm.notebook import tqdm\n",
    "\n",
    "def search_df():\n",
    "    results = []\n",
    "    for idx, jeju in tqdm(enumerate(jeju_range)):\n",
    "        for category in categorys:\n",
    "            for key in keywords:\n",
    "                r = pd.DataFrame(search_result(key, category, jeju))\n",
    "                r['keyword'] = key\n",
    "                results.append(r.copy())\n",
    "    return pd.concat(results).reset_index(drop=True)"
   ]
  },
  {
   "cell_type": "markdown",
   "metadata": {},
   "source": [
    "- 카카오 API 활용 데이터 획득"
   ]
  },
  {
   "cell_type": "code",
   "execution_count": null,
   "metadata": {},
   "outputs": [
    {
     "data": {
      "text/html": [
       "<div>\n",
       "<style scoped>\n",
       "    .dataframe tbody tr th:only-of-type {\n",
       "        vertical-align: middle;\n",
       "    }\n",
       "\n",
       "    .dataframe tbody tr th {\n",
       "        vertical-align: top;\n",
       "    }\n",
       "\n",
       "    .dataframe thead th {\n",
       "        text-align: right;\n",
       "    }\n",
       "</style>\n",
       "<table border=\"1\" class=\"dataframe\">\n",
       "  <thead>\n",
       "    <tr style=\"text-align: right;\">\n",
       "      <th></th>\n",
       "      <th>keyword</th>\n",
       "      <th>address_name</th>\n",
       "      <th>category_group_code</th>\n",
       "      <th>category_group_name</th>\n",
       "      <th>category_name</th>\n",
       "      <th>distance</th>\n",
       "      <th>id</th>\n",
       "      <th>phone</th>\n",
       "      <th>place_name</th>\n",
       "      <th>place_url</th>\n",
       "      <th>road_address_name</th>\n",
       "      <th>x</th>\n",
       "      <th>y</th>\n",
       "    </tr>\n",
       "  </thead>\n",
       "  <tbody>\n",
       "    <tr>\n",
       "      <th>0</th>\n",
       "      <td>테마파크</td>\n",
       "      <td>제주특별자치도 서귀포시 법환동 877-3</td>\n",
       "      <td>AT4</td>\n",
       "      <td>관광명소</td>\n",
       "      <td>여행 &gt; 관광,명소 &gt; 테마파크</td>\n",
       "      <td></td>\n",
       "      <td>10472331</td>\n",
       "      <td>064-739-8254</td>\n",
       "      <td>세리월드</td>\n",
       "      <td>http://place.map.kakao.com/10472331</td>\n",
       "      <td>제주특별자치도 서귀포시 법환상로2번길 97-17</td>\n",
       "      <td>126.511874293757</td>\n",
       "      <td>33.2470161809819</td>\n",
       "    </tr>\n",
       "    <tr>\n",
       "      <th>1</th>\n",
       "      <td>테마파크</td>\n",
       "      <td>제주특별자치도 서귀포시 법환동 914</td>\n",
       "      <td>AT4</td>\n",
       "      <td>관광명소</td>\n",
       "      <td>여행 &gt; 관광,명소 &gt; 테마파크 &gt; 워터테마파크</td>\n",
       "      <td></td>\n",
       "      <td>17150892</td>\n",
       "      <td>064-739-1930</td>\n",
       "      <td>제주워터월드</td>\n",
       "      <td>http://place.map.kakao.com/17150892</td>\n",
       "      <td>제주특별자치도 서귀포시 월드컵로 33</td>\n",
       "      <td>126.50854558896376</td>\n",
       "      <td>33.24550727132407</td>\n",
       "    </tr>\n",
       "  </tbody>\n",
       "</table>\n",
       "</div>"
      ],
      "text/plain": [
       "  keyword            address_name category_group_code category_group_name  \\\n",
       "0    테마파크  제주특별자치도 서귀포시 법환동 877-3                 AT4                관광명소   \n",
       "1    테마파크    제주특별자치도 서귀포시 법환동 914                 AT4                관광명소   \n",
       "\n",
       "                category_name distance        id         phone place_name  \\\n",
       "0           여행 > 관광,명소 > 테마파크           10472331  064-739-8254       세리월드   \n",
       "1  여행 > 관광,명소 > 테마파크 > 워터테마파크           17150892  064-739-1930     제주워터월드   \n",
       "\n",
       "                             place_url           road_address_name  \\\n",
       "0  http://place.map.kakao.com/10472331  제주특별자치도 서귀포시 법환상로2번길 97-17   \n",
       "1  http://place.map.kakao.com/17150892        제주특별자치도 서귀포시 월드컵로 33   \n",
       "\n",
       "                    x                  y  \n",
       "0    126.511874293757   33.2470161809819  \n",
       "1  126.50854558896376  33.24550727132407  "
      ]
     },
     "metadata": {},
     "output_type": "display_data"
    }
   ],
   "source": [
    "jeju_poi_additional = search_df()\n",
    "jeju_poi_additional.to_excel('./data/220119/제주_POI_서귀포.xlsx',index=False)\n",
    "jeju_poi_additional.head(2)"
   ]
  },
  {
   "cell_type": "markdown",
   "metadata": {},
   "source": [
    "#### ◽데이터 확인(제주도_서귀포시_POI(API))\n",
    "- 기본 정보 확인\n",
    "  - NaN 데이터는 존재하지 않는다.\n",
    "- distance 컬럼은 값이 존재하지 않음\n",
    "- 엑셀을 통해 중복(id) 제거"
   ]
  },
  {
   "cell_type": "code",
   "execution_count": null,
   "metadata": {},
   "outputs": [
    {
     "name": "stdout",
     "output_type": "stream",
     "text": [
      "<class 'pandas.core.frame.DataFrame'>\n",
      "RangeIndex: 4157 entries, 0 to 4156\n",
      "Data columns (total 13 columns):\n",
      " #   Column               Non-Null Count  Dtype  \n",
      "---  ------               --------------  -----  \n",
      " 0   keyword              4157 non-null   object \n",
      " 1   address_name         4157 non-null   object \n",
      " 2   category_group_code  4157 non-null   object \n",
      " 3   category_group_name  4157 non-null   object \n",
      " 4   category_name        4157 non-null   object \n",
      " 5   distance             0 non-null      float64\n",
      " 6   id                   4157 non-null   int64  \n",
      " 7   phone                2510 non-null   object \n",
      " 8   place_name           4157 non-null   object \n",
      " 9   place_url            4157 non-null   object \n",
      " 10  road_address_name    3461 non-null   object \n",
      " 11  x                    4157 non-null   float64\n",
      " 12  y                    4157 non-null   float64\n",
      "dtypes: float64(3), int64(1), object(9)\n",
      "memory usage: 422.3+ KB\n"
     ]
    }
   ],
   "source": [
    "import pandas as pd\n",
    "\n",
    "jeju_poi_additional = pd.read_excel('./data/220119/제주_POI_서귀포.xlsx', index_col=False)\n",
    "jeju_poi_additional.info()"
   ]
  },
  {
   "cell_type": "code",
   "execution_count": null,
   "metadata": {},
   "outputs": [
    {
     "data": {
      "text/html": [
       "<div>\n",
       "<style scoped>\n",
       "    .dataframe tbody tr th:only-of-type {\n",
       "        vertical-align: middle;\n",
       "    }\n",
       "\n",
       "    .dataframe tbody tr th {\n",
       "        vertical-align: top;\n",
       "    }\n",
       "\n",
       "    .dataframe thead th {\n",
       "        text-align: right;\n",
       "    }\n",
       "</style>\n",
       "<table border=\"1\" class=\"dataframe\">\n",
       "  <thead>\n",
       "    <tr style=\"text-align: right;\">\n",
       "      <th></th>\n",
       "      <th>keyword</th>\n",
       "    </tr>\n",
       "  </thead>\n",
       "  <tbody>\n",
       "    <tr>\n",
       "      <th>맛집</th>\n",
       "      <td>1980</td>\n",
       "    </tr>\n",
       "    <tr>\n",
       "      <th>가볼만한 곳</th>\n",
       "      <td>990</td>\n",
       "    </tr>\n",
       "    <tr>\n",
       "      <th>분위기 좋은</th>\n",
       "      <td>843</td>\n",
       "    </tr>\n",
       "    <tr>\n",
       "      <th>테마파크</th>\n",
       "      <td>175</td>\n",
       "    </tr>\n",
       "    <tr>\n",
       "      <th>오션뷰</th>\n",
       "      <td>76</td>\n",
       "    </tr>\n",
       "    <tr>\n",
       "      <th>감성</th>\n",
       "      <td>56</td>\n",
       "    </tr>\n",
       "    <tr>\n",
       "      <th>가족여행</th>\n",
       "      <td>25</td>\n",
       "    </tr>\n",
       "    <tr>\n",
       "      <th>체험</th>\n",
       "      <td>10</td>\n",
       "    </tr>\n",
       "    <tr>\n",
       "      <th>레포츠</th>\n",
       "      <td>2</td>\n",
       "    </tr>\n",
       "  </tbody>\n",
       "</table>\n",
       "</div>"
      ],
      "text/plain": [
       "        keyword\n",
       "맛집         1980\n",
       "가볼만한 곳      990\n",
       "분위기 좋은      843\n",
       "테마파크        175\n",
       "오션뷰          76\n",
       "감성           56\n",
       "가족여행         25\n",
       "체험           10\n",
       "레포츠           2"
      ]
     },
     "metadata": {},
     "output_type": "display_data"
    }
   ],
   "source": [
    "pd.DataFrame(jeju_poi_additional['keyword'].value_counts())"
   ]
  },
  {
   "cell_type": "markdown",
   "metadata": {},
   "source": [
    "#### ◽id 중복 처리 : 키워드 합치기\n",
    "- id 중복 확인\n",
    "- id 값으로 조회하여 값이 2개이상인 경우\n",
    "  - 각 데이터의 키워드를 합치고 1개의 행만 남긴다.\n",
    "  - included : 중복된 id일 경우를 식별하기 위해 dict형으로 확인한 경우 추가\n",
    "  - del_index : 중복된 id의 인덱스 중 1개만 사용할 것이기에 삭제할 인덱스 추가"
   ]
  },
  {
   "cell_type": "code",
   "execution_count": null,
   "metadata": {},
   "outputs": [
    {
     "data": {
      "text/plain": [
       "(4157, 1708)"
      ]
     },
     "metadata": {},
     "output_type": "display_data"
    }
   ],
   "source": [
    "# id 중복 확인\n",
    "import pandas as pd\n",
    "\n",
    "jeju_poi_additional = pd.read_excel('./data/220119/제주_POI_서귀포.xlsx', index_col=False)\n",
    "len(jeju_poi_additional), len(jeju_poi_additional['id'].unique())"
   ]
  },
  {
   "cell_type": "code",
   "execution_count": null,
   "metadata": {},
   "outputs": [
    {
     "name": "stdout",
     "output_type": "stream",
     "text": [
      "<class 'pandas.core.frame.DataFrame'>\n",
      "RangeIndex: 4157 entries, 0 to 4156\n",
      "Data columns (total 13 columns):\n",
      " #   Column               Non-Null Count  Dtype  \n",
      "---  ------               --------------  -----  \n",
      " 0   keyword              4157 non-null   object \n",
      " 1   address_name         4157 non-null   object \n",
      " 2   category_group_code  4157 non-null   object \n",
      " 3   category_group_name  4157 non-null   object \n",
      " 4   category_name        4157 non-null   object \n",
      " 5   distance             0 non-null      float64\n",
      " 6   id                   4157 non-null   int64  \n",
      " 7   phone                2510 non-null   object \n",
      " 8   place_name           4157 non-null   object \n",
      " 9   place_url            4157 non-null   object \n",
      " 10  road_address_name    3461 non-null   object \n",
      " 11  x                    4157 non-null   float64\n",
      " 12  y                    4157 non-null   float64\n",
      "dtypes: float64(3), int64(1), object(9)\n",
      "memory usage: 422.3+ KB\n"
     ]
    }
   ],
   "source": [
    "jeju_poi_additional.info()"
   ]
  },
  {
   "cell_type": "code",
   "execution_count": null,
   "metadata": {},
   "outputs": [
    {
     "name": "stdout",
     "output_type": "stream",
     "text": [
      "<class 'pandas.core.frame.DataFrame'>\n",
      "RangeIndex: 4157 entries, 0 to 4156\n",
      "Data columns (total 13 columns):\n",
      " #   Column               Non-Null Count  Dtype  \n",
      "---  ------               --------------  -----  \n",
      " 0   keyword              4157 non-null   object \n",
      " 1   address_name         4157 non-null   object \n",
      " 2   category_group_code  4157 non-null   object \n",
      " 3   category_group_name  4157 non-null   object \n",
      " 4   category_name        4157 non-null   object \n",
      " 5   distance             0 non-null      float64\n",
      " 6   id                   4157 non-null   int64  \n",
      " 7   phone                2510 non-null   object \n",
      " 8   place_name           4157 non-null   object \n",
      " 9   place_url            4157 non-null   object \n",
      " 10  road_address_name    3461 non-null   object \n",
      " 11  x                    4157 non-null   float64\n",
      " 12  y                    4157 non-null   float64\n",
      "dtypes: float64(3), int64(1), object(9)\n",
      "memory usage: 422.3+ KB\n"
     ]
    }
   ],
   "source": [
    "#id 중복 처리 : 키워드 합치기\n",
    "import pandas as pd\n",
    "\n",
    "jeju_poi_additional = pd.read_excel('./data/220119/제주_POI_서귀포.xlsx', index_col=False)\n",
    "jeju_poi_additional.info()"
   ]
  },
  {
   "cell_type": "code",
   "execution_count": null,
   "metadata": {},
   "outputs": [],
   "source": [
    "included = {}\n",
    "del_index = []\n",
    "for idx, row in jeju_poi_additional.iterrows():\n",
    "    id = row['id']\n",
    "    temp = jeju_poi_additional[jeju_poi_additional['id'] == id].copy()\n",
    "    cnt = len(temp)\n",
    "    if id not in included and cnt > 1:\n",
    "        included[id] = True\n",
    "        for i, r in temp.iterrows():\n",
    "            if idx == i:\n",
    "                continue\n",
    "            else:\n",
    "                if r['keyword'] not in jeju_poi_additional.loc[idx, 'keyword']:\n",
    "                    jeju_poi_additional.loc[idx, 'keyword'] = jeju_poi_additional.loc[idx, 'keyword'] + ',' + r['keyword']\n",
    "                del_index.append(i)"
   ]
  },
  {
   "cell_type": "code",
   "execution_count": null,
   "metadata": {},
   "outputs": [
    {
     "data": {
      "text/plain": [
       "(652, 2449)"
      ]
     },
     "metadata": {},
     "output_type": "display_data"
    }
   ],
   "source": [
    "# 중복 id의 수, 삭제할 인덱스의 수\n",
    "len(included.keys()), len(del_index)"
   ]
  },
  {
   "cell_type": "code",
   "execution_count": null,
   "metadata": {},
   "outputs": [],
   "source": [
    "# 중복 id의 인덱스 삭제\n",
    "jeju_poi_additional_del = jeju_poi_additional.drop(del_index, axis=0)"
   ]
  },
  {
   "cell_type": "markdown",
   "metadata": {},
   "source": [
    "- 행의 수와 id의 수가 일치하므로 중복된 id가 없음을 확인할 수 있다."
   ]
  },
  {
   "cell_type": "code",
   "execution_count": null,
   "metadata": {},
   "outputs": [
    {
     "data": {
      "text/plain": [
       "(1708, 1708)"
      ]
     },
     "metadata": {},
     "output_type": "display_data"
    }
   ],
   "source": [
    "len(jeju_poi_additional_del['id'].unique()), len(jeju_poi_additional_del)"
   ]
  },
  {
   "cell_type": "code",
   "execution_count": null,
   "metadata": {},
   "outputs": [],
   "source": [
    "jeju_poi_additional_del.to_excel('./data/220119/제주_POI_서귀포_키워드묶음.xlsx', index=False)"
   ]
  },
  {
   "cell_type": "code",
   "execution_count": null,
   "metadata": {},
   "outputs": [
    {
     "name": "stdout",
     "output_type": "stream",
     "text": [
      "<class 'pandas.core.frame.DataFrame'>\n",
      "RangeIndex: 1708 entries, 0 to 1707\n",
      "Data columns (total 13 columns):\n",
      " #   Column               Non-Null Count  Dtype  \n",
      "---  ------               --------------  -----  \n",
      " 0   keyword              1708 non-null   object \n",
      " 1   address_name         1708 non-null   object \n",
      " 2   category_group_code  1708 non-null   object \n",
      " 3   category_group_name  1708 non-null   object \n",
      " 4   category_name        1708 non-null   object \n",
      " 5   distance             0 non-null      float64\n",
      " 6   id                   1708 non-null   int64  \n",
      " 7   phone                1143 non-null   object \n",
      " 8   place_name           1708 non-null   object \n",
      " 9   place_url            1708 non-null   object \n",
      " 10  road_address_name    1498 non-null   object \n",
      " 11  x                    1708 non-null   float64\n",
      " 12  y                    1708 non-null   float64\n",
      "dtypes: float64(3), int64(1), object(9)\n",
      "memory usage: 173.6+ KB\n"
     ]
    }
   ],
   "source": [
    "# id 중복 제거 데이터 확인\n",
    "import pandas as pd\n",
    "\n",
    "jeju_poi_add = pd.read_excel('./data/220119/제주_POI_서귀포_키워드묶음.xlsx', index_col=False)\n",
    "jeju_poi_add.info()"
   ]
  },
  {
   "cell_type": "code",
   "execution_count": null,
   "metadata": {},
   "outputs": [
    {
     "data": {
      "text/html": [
       "<div>\n",
       "<style scoped>\n",
       "    .dataframe tbody tr th:only-of-type {\n",
       "        vertical-align: middle;\n",
       "    }\n",
       "\n",
       "    .dataframe tbody tr th {\n",
       "        vertical-align: top;\n",
       "    }\n",
       "\n",
       "    .dataframe thead th {\n",
       "        text-align: right;\n",
       "    }\n",
       "</style>\n",
       "<table border=\"1\" class=\"dataframe\">\n",
       "  <thead>\n",
       "    <tr style=\"text-align: right;\">\n",
       "      <th></th>\n",
       "      <th>category_group_name</th>\n",
       "    </tr>\n",
       "  </thead>\n",
       "  <tbody>\n",
       "    <tr>\n",
       "      <th>음식점</th>\n",
       "      <td>866</td>\n",
       "    </tr>\n",
       "    <tr>\n",
       "      <th>카페</th>\n",
       "      <td>559</td>\n",
       "    </tr>\n",
       "    <tr>\n",
       "      <th>관광명소</th>\n",
       "      <td>279</td>\n",
       "    </tr>\n",
       "    <tr>\n",
       "      <th>문화시설</th>\n",
       "      <td>4</td>\n",
       "    </tr>\n",
       "  </tbody>\n",
       "</table>\n",
       "</div>"
      ],
      "text/plain": [
       "      category_group_name\n",
       "음식점                   866\n",
       "카페                    559\n",
       "관광명소                  279\n",
       "문화시설                    4"
      ]
     },
     "metadata": {},
     "output_type": "display_data"
    }
   ],
   "source": [
    "pd.DataFrame(jeju_poi_add['category_group_name'].value_counts())"
   ]
  },
  {
   "cell_type": "markdown",
   "metadata": {},
   "source": [
    "### 제주시 & 서귀포시 크롤링 데이터 확인"
   ]
  },
  {
   "cell_type": "markdown",
   "metadata": {},
   "source": [
    "#### ◽데이터 확인"
   ]
  },
  {
   "cell_type": "code",
   "execution_count": null,
   "metadata": {},
   "outputs": [],
   "source": [
    "import pandas as pd\n",
    "\n",
    "jeju_poi_add = pd.read_excel('./data/220119/제주_POI_서귀포_키워드묶음.xlsx', index_col=False)\n",
    "jeju_poi = pd.read_excel('./data/220119/_제주도_POI_컬럼 정리.xlsx', index_col = 0)"
   ]
  },
  {
   "cell_type": "markdown",
   "metadata": {},
   "source": [
    "- 제주시 데이터"
   ]
  },
  {
   "cell_type": "code",
   "execution_count": null,
   "metadata": {},
   "outputs": [
    {
     "data": {
      "text/html": [
       "<div>\n",
       "<style scoped>\n",
       "    .dataframe tbody tr th:only-of-type {\n",
       "        vertical-align: middle;\n",
       "    }\n",
       "\n",
       "    .dataframe tbody tr th {\n",
       "        vertical-align: top;\n",
       "    }\n",
       "\n",
       "    .dataframe thead th {\n",
       "        text-align: right;\n",
       "    }\n",
       "</style>\n",
       "<table border=\"1\" class=\"dataframe\">\n",
       "  <thead>\n",
       "    <tr style=\"text-align: right;\">\n",
       "      <th></th>\n",
       "      <th>keyword</th>\n",
       "      <th>address_name</th>\n",
       "      <th>category_group_name</th>\n",
       "      <th>category_name</th>\n",
       "      <th>id</th>\n",
       "      <th>place_name</th>\n",
       "      <th>x</th>\n",
       "      <th>y</th>\n",
       "      <th>rating</th>\n",
       "    </tr>\n",
       "  </thead>\n",
       "  <tbody>\n",
       "    <tr>\n",
       "      <th>0</th>\n",
       "      <td>테마파크</td>\n",
       "      <td>제주특별자치도 제주시 연동 1320</td>\n",
       "      <td>관광명소</td>\n",
       "      <td>문화,예술 &gt; 문화시설 &gt; 박물관</td>\n",
       "      <td>26388484</td>\n",
       "      <td>수목원테마파크 아이스뮤지엄</td>\n",
       "      <td>126.488398</td>\n",
       "      <td>33.470777</td>\n",
       "      <td>1.0</td>\n",
       "    </tr>\n",
       "  </tbody>\n",
       "</table>\n",
       "</div>"
      ],
      "text/plain": [
       "  keyword         address_name category_group_name       category_name  \\\n",
       "0    테마파크  제주특별자치도 제주시 연동 1320                관광명소  문화,예술 > 문화시설 > 박물관   \n",
       "\n",
       "         id      place_name           x          y  rating  \n",
       "0  26388484  수목원테마파크 아이스뮤지엄  126.488398  33.470777     1.0  "
      ]
     },
     "metadata": {},
     "output_type": "display_data"
    }
   ],
   "source": [
    "jeju_poi.head(1)"
   ]
  },
  {
   "cell_type": "markdown",
   "metadata": {},
   "source": [
    "- 서귀포시 데이터"
   ]
  },
  {
   "cell_type": "code",
   "execution_count": null,
   "metadata": {},
   "outputs": [
    {
     "data": {
      "text/html": [
       "<div>\n",
       "<style scoped>\n",
       "    .dataframe tbody tr th:only-of-type {\n",
       "        vertical-align: middle;\n",
       "    }\n",
       "\n",
       "    .dataframe tbody tr th {\n",
       "        vertical-align: top;\n",
       "    }\n",
       "\n",
       "    .dataframe thead th {\n",
       "        text-align: right;\n",
       "    }\n",
       "</style>\n",
       "<table border=\"1\" class=\"dataframe\">\n",
       "  <thead>\n",
       "    <tr style=\"text-align: right;\">\n",
       "      <th></th>\n",
       "      <th>keyword</th>\n",
       "      <th>address_name</th>\n",
       "      <th>category_group_code</th>\n",
       "      <th>category_group_name</th>\n",
       "      <th>category_name</th>\n",
       "      <th>distance</th>\n",
       "      <th>id</th>\n",
       "      <th>phone</th>\n",
       "      <th>place_name</th>\n",
       "      <th>place_url</th>\n",
       "      <th>road_address_name</th>\n",
       "      <th>x</th>\n",
       "      <th>y</th>\n",
       "    </tr>\n",
       "  </thead>\n",
       "  <tbody>\n",
       "    <tr>\n",
       "      <th>0</th>\n",
       "      <td>테마파크,가볼만한 곳</td>\n",
       "      <td>제주특별자치도 서귀포시 법환동 877-3</td>\n",
       "      <td>AT4</td>\n",
       "      <td>관광명소</td>\n",
       "      <td>여행 &gt; 관광,명소 &gt; 테마파크</td>\n",
       "      <td>NaN</td>\n",
       "      <td>10472331</td>\n",
       "      <td>064-739-8254</td>\n",
       "      <td>세리월드</td>\n",
       "      <td>http://place.map.kakao.com/10472331</td>\n",
       "      <td>제주특별자치도 서귀포시 법환상로2번길 97-17</td>\n",
       "      <td>126.511874</td>\n",
       "      <td>33.247016</td>\n",
       "    </tr>\n",
       "  </tbody>\n",
       "</table>\n",
       "</div>"
      ],
      "text/plain": [
       "       keyword            address_name category_group_code  \\\n",
       "0  테마파크,가볼만한 곳  제주특별자치도 서귀포시 법환동 877-3                 AT4   \n",
       "\n",
       "  category_group_name      category_name  distance        id         phone  \\\n",
       "0                관광명소  여행 > 관광,명소 > 테마파크       NaN  10472331  064-739-8254   \n",
       "\n",
       "  place_name                            place_url           road_address_name  \\\n",
       "0       세리월드  http://place.map.kakao.com/10472331  제주특별자치도 서귀포시 법환상로2번길 97-17   \n",
       "\n",
       "            x          y  \n",
       "0  126.511874  33.247016  "
      ]
     },
     "metadata": {},
     "output_type": "display_data"
    }
   ],
   "source": [
    "jeju_poi_add.head(1)"
   ]
  },
  {
   "cell_type": "markdown",
   "metadata": {},
   "source": [
    "- 제주시 & 서귀포시 중복 데이터 제거\n",
    "    - id를 기준으로 jeju_poi에 수집된 데이터는 삭제한다."
   ]
  },
  {
   "cell_type": "code",
   "execution_count": null,
   "metadata": {},
   "outputs": [],
   "source": [
    "included_id = list(jeju_poi['id'].unique())\n",
    "add_id = list(jeju_poi_add['id'].unique())\n",
    "\n",
    "for ID in add_id:\n",
    "    if ID in included_id:\n",
    "        jeju_poi_add = jeju_poi_add[jeju_poi_add['id'] != ID].copy()"
   ]
  },
  {
   "cell_type": "markdown",
   "metadata": {},
   "source": [
    "- 120개 가량의 데이터가 삭제되었다."
   ]
  },
  {
   "cell_type": "code",
   "execution_count": null,
   "metadata": {},
   "outputs": [
    {
     "data": {
      "text/plain": [
       "(1580, 1708)"
      ]
     },
     "metadata": {},
     "output_type": "display_data"
    }
   ],
   "source": [
    "len(jeju_poi_add), len(add_id)"
   ]
  },
  {
   "cell_type": "code",
   "execution_count": null,
   "metadata": {},
   "outputs": [
    {
     "data": {
      "text/html": [
       "<div>\n",
       "<style scoped>\n",
       "    .dataframe tbody tr th:only-of-type {\n",
       "        vertical-align: middle;\n",
       "    }\n",
       "\n",
       "    .dataframe tbody tr th {\n",
       "        vertical-align: top;\n",
       "    }\n",
       "\n",
       "    .dataframe thead th {\n",
       "        text-align: right;\n",
       "    }\n",
       "</style>\n",
       "<table border=\"1\" class=\"dataframe\">\n",
       "  <thead>\n",
       "    <tr style=\"text-align: right;\">\n",
       "      <th></th>\n",
       "      <th>category_group_name</th>\n",
       "    </tr>\n",
       "  </thead>\n",
       "  <tbody>\n",
       "    <tr>\n",
       "      <th>음식점</th>\n",
       "      <td>832</td>\n",
       "    </tr>\n",
       "    <tr>\n",
       "      <th>카페</th>\n",
       "      <td>514</td>\n",
       "    </tr>\n",
       "    <tr>\n",
       "      <th>관광명소</th>\n",
       "      <td>231</td>\n",
       "    </tr>\n",
       "    <tr>\n",
       "      <th>문화시설</th>\n",
       "      <td>3</td>\n",
       "    </tr>\n",
       "  </tbody>\n",
       "</table>\n",
       "</div>"
      ],
      "text/plain": [
       "      category_group_name\n",
       "음식점                   832\n",
       "카페                    514\n",
       "관광명소                  231\n",
       "문화시설                    3"
      ]
     },
     "metadata": {},
     "output_type": "display_data"
    }
   ],
   "source": [
    "pd.DataFrame(jeju_poi_add['category_group_name'].value_counts())"
   ]
  },
  {
   "cell_type": "code",
   "execution_count": null,
   "metadata": {},
   "outputs": [],
   "source": [
    "jeju_poi_add.to_excel('./data/220119/_서귀포_POI_최종RAW.xlsx', index=False)"
   ]
  },
  {
   "cell_type": "markdown",
   "metadata": {},
   "source": [
    "## Selenium을 활용해 평점 & 이미지 데이터 크롤링"
   ]
  },
  {
   "cell_type": "code",
   "execution_count": null,
   "metadata": {},
   "outputs": [],
   "source": [
    "from selenium import webdriver\n",
    "\n",
    "driver = webdriver.Chrome(\"driver/chromedriver\") # 크롬 드라이버 경로 지정 \n",
    "# driver.get(\"http://place.map.kakao.com/12710968\") # Test : get 명령으로 접근하고 싶은 주소 지정  "
   ]
  },
  {
   "cell_type": "markdown",
   "metadata": {},
   "source": [
    "### 제주시"
   ]
  },
  {
   "cell_type": "code",
   "execution_count": null,
   "metadata": {},
   "outputs": [],
   "source": [
    "import pandas as pd\n",
    "img_df = pd.read_excel(\"Final_pro/JEJU_POIAPI4.xlsx\")\n",
    "img_df.head()"
   ]
  },
  {
   "cell_type": "code",
   "execution_count": null,
   "metadata": {},
   "outputs": [],
   "source": [
    "# 평점과 이미지 링크 컬럼을 추가\n",
    "img_df[\"rating\"] = \"\"\n",
    "img_df[\"img_link\"] = \"\""
   ]
  },
  {
   "cell_type": "code",
   "execution_count": null,
   "metadata": {},
   "outputs": [],
   "source": [
    "for idx,i in img_df[1558:].iterrows():\n",
    "        time.sleep(0.7)\n",
    "        driver = webdriver.Chrome(\"driver/chromedriver\") # 크롬 드라이버 경로 지정 \n",
    "        url = i[\"place_url\"]\n",
    "        driver.implicitly_wait(8)\n",
    "        driver.get(url)\n",
    "        try:\n",
    "            contents = driver.find_element_by_css_selector(\"#mArticle > div.cont_essential > div:nth-child(1) > div.place_details > div > div > a:nth-child(3) > span.color_b\")\n",
    "            \n",
    "        except:\n",
    "            img_df[\"rating\"][idx] = \"0.0\"\n",
    "            \n",
    "        else:\n",
    "            rating = contents.text\n",
    "            img_df[\"rating\"][idx] = rating\n",
    "\n",
    "        try:\n",
    "            image = driver.find_element_by_css_selector(\"#mArticle > div.cont_photo > div.photo_area > ul > li.size_l > a\")\n",
    "            \n",
    "        except:\n",
    "            name = str(idx) + \"_\" + i[\"place_name\"]\n",
    "            plt.savefig(f\"Final_pro/error2/idx_{name}.png\")\n",
    "            driver.quit()\n",
    "\n",
    "        else:\n",
    "            img_link = image.get_attribute(\"style\")[23:-3]\n",
    "            img_link = \"https:\" + img_link\n",
    "            img_df[\"img_link\"][idx] = img_link\n",
    "\n",
    "            response = requests.get(img_df[\"img_link\"][idx])\n",
    "            name = str(idx) + \"_\" + i[\"place_name\"]\n",
    "            with open(\"Final_pro/img2/{}.jpg\".format(name), \"wb\") as f:\n",
    "                f.write(response.content)\n",
    "            driver.quit()\n",
    "        "
   ]
  },
  {
   "cell_type": "code",
   "execution_count": null,
   "metadata": {},
   "outputs": [],
   "source": [
    "img_df.to_excel(\"final_pro/merge_rating.xlsx\")"
   ]
  },
  {
   "cell_type": "markdown",
   "metadata": {},
   "source": [
    "#### 카테고리별 이미지 묶기"
   ]
  },
  {
   "cell_type": "code",
   "execution_count": null,
   "metadata": {},
   "outputs": [],
   "source": [
    "import os\n",
    "\n",
    "path = 'Final_pro/img'\n",
    "file_list = os.listdir(path)\n",
    "file_list_py = [file for file in file_list if file.endswith('.jpg')]"
   ]
  },
  {
   "cell_type": "code",
   "execution_count": null,
   "metadata": {},
   "outputs": [
    {
     "data": {
      "text/html": [
       "<div>\n",
       "<style scoped>\n",
       "    .dataframe tbody tr th:only-of-type {\n",
       "        vertical-align: middle;\n",
       "    }\n",
       "\n",
       "    .dataframe tbody tr th {\n",
       "        vertical-align: top;\n",
       "    }\n",
       "\n",
       "    .dataframe thead th {\n",
       "        text-align: right;\n",
       "    }\n",
       "</style>\n",
       "<table border=\"1\" class=\"dataframe\">\n",
       "  <thead>\n",
       "    <tr style=\"text-align: right;\">\n",
       "      <th></th>\n",
       "      <th>keyword</th>\n",
       "      <th>address_name</th>\n",
       "      <th>category_group_code</th>\n",
       "      <th>category_group_name</th>\n",
       "      <th>category_name</th>\n",
       "      <th>distance</th>\n",
       "      <th>id</th>\n",
       "      <th>phone</th>\n",
       "      <th>place_name</th>\n",
       "      <th>place_url</th>\n",
       "      <th>road_address_name</th>\n",
       "      <th>x</th>\n",
       "      <th>y</th>\n",
       "      <th>rating</th>\n",
       "      <th>img_link</th>\n",
       "    </tr>\n",
       "    <tr>\n",
       "      <th>index</th>\n",
       "      <th></th>\n",
       "      <th></th>\n",
       "      <th></th>\n",
       "      <th></th>\n",
       "      <th></th>\n",
       "      <th></th>\n",
       "      <th></th>\n",
       "      <th></th>\n",
       "      <th></th>\n",
       "      <th></th>\n",
       "      <th></th>\n",
       "      <th></th>\n",
       "      <th></th>\n",
       "      <th></th>\n",
       "      <th></th>\n",
       "    </tr>\n",
       "  </thead>\n",
       "  <tbody>\n",
       "    <tr>\n",
       "      <th>0</th>\n",
       "      <td>테마파크,가볼만한 곳</td>\n",
       "      <td>제주특별자치도 서귀포시 법환동 877-3</td>\n",
       "      <td>AT4</td>\n",
       "      <td>관광명소</td>\n",
       "      <td>여행 &gt; 관광,명소 &gt; 테마파크</td>\n",
       "      <td>NaN</td>\n",
       "      <td>10472331</td>\n",
       "      <td>064-739-8254</td>\n",
       "      <td>세리월드</td>\n",
       "      <td>http://place.map.kakao.com/10472331</td>\n",
       "      <td>제주특별자치도 서귀포시 법환상로2번길 97-17</td>\n",
       "      <td>126.511874</td>\n",
       "      <td>33.247016</td>\n",
       "      <td>3.7</td>\n",
       "      <td>https://img1.kakaocdn.net/relay/local/R640x320...</td>\n",
       "    </tr>\n",
       "    <tr>\n",
       "      <th>1</th>\n",
       "      <td>테마파크,가볼만한 곳</td>\n",
       "      <td>제주특별자치도 서귀포시 법환동 914</td>\n",
       "      <td>AT4</td>\n",
       "      <td>관광명소</td>\n",
       "      <td>여행 &gt; 관광,명소 &gt; 테마파크 &gt; 워터테마파크</td>\n",
       "      <td>NaN</td>\n",
       "      <td>17150892</td>\n",
       "      <td>064-739-1930</td>\n",
       "      <td>제주워터월드</td>\n",
       "      <td>http://place.map.kakao.com/17150892</td>\n",
       "      <td>제주특별자치도 서귀포시 월드컵로 33</td>\n",
       "      <td>126.508546</td>\n",
       "      <td>33.245507</td>\n",
       "      <td>2.7</td>\n",
       "      <td>https://img1.kakaocdn.net/relay/local/R640x320...</td>\n",
       "    </tr>\n",
       "    <tr>\n",
       "      <th>2</th>\n",
       "      <td>테마파크,가볼만한 곳</td>\n",
       "      <td>제주특별자치도 서귀포시 토평동 1799</td>\n",
       "      <td>AT4</td>\n",
       "      <td>관광명소</td>\n",
       "      <td>여행 &gt; 관광,명소 &gt; 테마파크</td>\n",
       "      <td>NaN</td>\n",
       "      <td>820826091</td>\n",
       "      <td>064-733-3500</td>\n",
       "      <td>윈드1947카트테마파크</td>\n",
       "      <td>http://place.map.kakao.com/820826091</td>\n",
       "      <td>제주특별자치도 서귀포시 토평공단로 78-27</td>\n",
       "      <td>126.588827</td>\n",
       "      <td>33.289519</td>\n",
       "      <td>3.7</td>\n",
       "      <td>https://img1.kakaocdn.net/relay/local/R640x320...</td>\n",
       "    </tr>\n",
       "    <tr>\n",
       "      <th>3</th>\n",
       "      <td>테마파크,가볼만한 곳</td>\n",
       "      <td>제주특별자치도 서귀포시 중문동 2565</td>\n",
       "      <td>AT4</td>\n",
       "      <td>관광명소</td>\n",
       "      <td>여행 &gt; 관광,명소 &gt; 테마파크</td>\n",
       "      <td>NaN</td>\n",
       "      <td>780499262</td>\n",
       "      <td>NaN</td>\n",
       "      <td>액트몬 제주중문점</td>\n",
       "      <td>http://place.map.kakao.com/780499262</td>\n",
       "      <td>제주특별자치도 서귀포시 중문관광로 205</td>\n",
       "      <td>126.421517</td>\n",
       "      <td>33.243686</td>\n",
       "      <td>4.5</td>\n",
       "      <td>https://img1.kakaocdn.net/relay/local/R640x320...</td>\n",
       "    </tr>\n",
       "    <tr>\n",
       "      <th>4</th>\n",
       "      <td>테마파크,가볼만한 곳</td>\n",
       "      <td>제주특별자치도 서귀포시 색달동 2950-4</td>\n",
       "      <td>AT4</td>\n",
       "      <td>관광명소</td>\n",
       "      <td>여행 &gt; 관광,명소 &gt; 테마파크</td>\n",
       "      <td>NaN</td>\n",
       "      <td>10880885</td>\n",
       "      <td>1544-2988</td>\n",
       "      <td>퍼시픽 리솜 마린스테이지</td>\n",
       "      <td>http://place.map.kakao.com/10880885</td>\n",
       "      <td>제주특별자치도 서귀포시 중문관광로 154-17</td>\n",
       "      <td>126.415575</td>\n",
       "      <td>33.243856</td>\n",
       "      <td>2.9</td>\n",
       "      <td>https://img1.kakaocdn.net/relay/local/R640x320...</td>\n",
       "    </tr>\n",
       "  </tbody>\n",
       "</table>\n",
       "</div>"
      ],
      "text/plain": [
       "           keyword             address_name category_group_code  \\\n",
       "index                                                             \n",
       "0      테마파크,가볼만한 곳   제주특별자치도 서귀포시 법환동 877-3                 AT4   \n",
       "1      테마파크,가볼만한 곳     제주특별자치도 서귀포시 법환동 914                 AT4   \n",
       "2      테마파크,가볼만한 곳    제주특별자치도 서귀포시 토평동 1799                 AT4   \n",
       "3      테마파크,가볼만한 곳    제주특별자치도 서귀포시 중문동 2565                 AT4   \n",
       "4      테마파크,가볼만한 곳  제주특별자치도 서귀포시 색달동 2950-4                 AT4   \n",
       "\n",
       "      category_group_name               category_name  distance         id  \\\n",
       "index                                                                        \n",
       "0                    관광명소           여행 > 관광,명소 > 테마파크       NaN   10472331   \n",
       "1                    관광명소  여행 > 관광,명소 > 테마파크 > 워터테마파크       NaN   17150892   \n",
       "2                    관광명소           여행 > 관광,명소 > 테마파크       NaN  820826091   \n",
       "3                    관광명소           여행 > 관광,명소 > 테마파크       NaN  780499262   \n",
       "4                    관광명소           여행 > 관광,명소 > 테마파크       NaN   10880885   \n",
       "\n",
       "              phone     place_name                             place_url  \\\n",
       "index                                                                      \n",
       "0      064-739-8254           세리월드   http://place.map.kakao.com/10472331   \n",
       "1      064-739-1930         제주워터월드   http://place.map.kakao.com/17150892   \n",
       "2      064-733-3500   윈드1947카트테마파크  http://place.map.kakao.com/820826091   \n",
       "3               NaN      액트몬 제주중문점  http://place.map.kakao.com/780499262   \n",
       "4         1544-2988  퍼시픽 리솜 마린스테이지   http://place.map.kakao.com/10880885   \n",
       "\n",
       "                road_address_name           x          y  rating  \\\n",
       "index                                                              \n",
       "0      제주특별자치도 서귀포시 법환상로2번길 97-17  126.511874  33.247016     3.7   \n",
       "1            제주특별자치도 서귀포시 월드컵로 33  126.508546  33.245507     2.7   \n",
       "2        제주특별자치도 서귀포시 토평공단로 78-27  126.588827  33.289519     3.7   \n",
       "3          제주특별자치도 서귀포시 중문관광로 205  126.421517  33.243686     4.5   \n",
       "4       제주특별자치도 서귀포시 중문관광로 154-17  126.415575  33.243856     2.9   \n",
       "\n",
       "                                                img_link  \n",
       "index                                                     \n",
       "0      https://img1.kakaocdn.net/relay/local/R640x320...  \n",
       "1      https://img1.kakaocdn.net/relay/local/R640x320...  \n",
       "2      https://img1.kakaocdn.net/relay/local/R640x320...  \n",
       "3      https://img1.kakaocdn.net/relay/local/R640x320...  \n",
       "4      https://img1.kakaocdn.net/relay/local/R640x320...  "
      ]
     },
     "metadata": {},
     "output_type": "display_data"
    }
   ],
   "source": [
    "import pandas as pd\n",
    "place_xlsx = pd.read_excel(\"Final_pro/Have_img_place.xlsx\").set_index(\"index\")\n",
    "place_xlsx.head()"
   ]
  },
  {
   "cell_type": "code",
   "execution_count": null,
   "metadata": {},
   "outputs": [],
   "source": [
    "import pandas as pd \n",
    "import shutil\n",
    "\n",
    "for i in file_list_py:\n",
    "    idx = int(i.split(\"_\")[0])\n",
    "\n",
    "    if place_xlsx[\"category_group_name\"][idx]==\"관광명소\":\n",
    "        filename = i\n",
    "        src = 'Final_pro/img2/' \n",
    "        dir = 'Final_pro/img2/관광명소/'\n",
    "        shutil.move(src + filename, dir + filename)\n",
    "    elif place_xlsx[\"category_group_name\"][idx]==\"카페\":\n",
    "        filename = i\n",
    "        src = 'Final_pro/img2/' \n",
    "        dir = 'Final_pro/img2/카페/'\n",
    "        shutil.move(src + filename, dir + filename)\n",
    "    elif place_xlsx[\"category_group_name\"][idx]==\"음식점\":\n",
    "        filename = i\n",
    "        src = 'Final_pro/img2/' \n",
    "        dir = 'Final_pro/img2/음식점/'\n",
    "        shutil.move(src + filename, dir + filename)"
   ]
  },
  {
   "cell_type": "markdown",
   "metadata": {},
   "source": [
    "### 서귀포시"
   ]
  },
  {
   "cell_type": "code",
   "execution_count": null,
   "metadata": {},
   "outputs": [],
   "source": [
    "import pandas as pd\n",
    "img_df2 = pd.read_excel(\"Final_pro/_서귀포_POI_최종RAW.xlsx\")\n",
    "img_df2.head()"
   ]
  },
  {
   "cell_type": "code",
   "execution_count": null,
   "metadata": {},
   "outputs": [],
   "source": [
    "# 평점과 이미지 링크 컬럼을 추가\n",
    "img_df2[\"rating\"] = \"\"\n",
    "img_df2[\"img_link\"] = \"\""
   ]
  },
  {
   "cell_type": "code",
   "execution_count": null,
   "metadata": {},
   "outputs": [],
   "source": [
    "import matplotlib.pyplot as plt\n",
    "import time"
   ]
  },
  {
   "cell_type": "code",
   "execution_count": null,
   "metadata": {},
   "outputs": [
    {
     "name": "stderr",
     "output_type": "stream",
     "text": [
      "C:\\Users\\alal8\\AppData\\Local\\Temp/ipykernel_9352/3202358631.py:15: SettingWithCopyWarning: \n",
      "A value is trying to be set on a copy of a slice from a DataFrame\n",
      "\n",
      "See the caveats in the documentation: https://pandas.pydata.org/pandas-docs/stable/user_guide/indexing.html#returning-a-view-versus-a-copy\n",
      "  img_df[\"rating\"][idx] = rating\n",
      "C:\\Users\\alal8\\AppData\\Local\\Temp/ipykernel_9352/3202358631.py:28: SettingWithCopyWarning: \n",
      "A value is trying to be set on a copy of a slice from a DataFrame\n",
      "\n",
      "See the caveats in the documentation: https://pandas.pydata.org/pandas-docs/stable/user_guide/indexing.html#returning-a-view-versus-a-copy\n",
      "  img_df[\"img_link\"][idx] = img_link\n"
     ]
    },
    {
     "data": {
      "text/plain": [
       "<Figure size 432x288 with 0 Axes>"
      ]
     },
     "metadata": {},
     "output_type": "display_data"
    }
   ],
   "source": [
    "for idx,i in img_df2[1558:].iterrows():\n",
    "        time.sleep(0.7)\n",
    "        driver = webdriver.Chrome(\"driver/chromedriver\") # 크롬 드라이버 경로 지정 \n",
    "        url = i[\"place_url\"]\n",
    "        driver.implicitly_wait(8)\n",
    "        driver.get(url)\n",
    "        try:\n",
    "            contents = driver.find_element_by_css_selector(\"#mArticle > div.cont_essential > div:nth-child(1) > div.place_details > div > div > a:nth-child(3) > span.color_b\")\n",
    "            \n",
    "        except:\n",
    "            img_df2[\"rating\"][idx] = \"0.0\"\n",
    "            \n",
    "        else:\n",
    "            rating = contents.text\n",
    "            img_df2[\"rating\"][idx] = rating\n",
    "\n",
    "        try:\n",
    "            image = driver.find_element_by_css_selector(\"#mArticle > div.cont_photo > div.photo_area > ul > li.size_l > a\")\n",
    "            \n",
    "        except:\n",
    "            name = str(idx) + \"_\" + i[\"place_name\"]\n",
    "            plt.savefig(f\"Final_pro/error2/idx_{name}.png\")\n",
    "            driver.quit()\n",
    "\n",
    "        else:\n",
    "            img_link = image.get_attribute(\"style\")[23:-3]\n",
    "            img_link = \"https:\" + img_link\n",
    "            img_df2[\"img_link\"][idx] = img_link\n",
    "\n",
    "            response = requests.get(img_df[\"img_link\"][idx])\n",
    "            name = str(idx) + \"_\" + i[\"place_name\"]\n",
    "            with open(\"Final_pro/img2/{}.jpg\".format(name), \"wb\") as f:\n",
    "                f.write(response.content)\n",
    "            driver.quit()\n",
    "        "
   ]
  },
  {
   "cell_type": "code",
   "execution_count": null,
   "metadata": {},
   "outputs": [],
   "source": [
    "img_df2.to_excel(\"final_pro/merge_rating2.xlsx\")"
   ]
  },
  {
   "cell_type": "markdown",
   "metadata": {},
   "source": [
    "#### 카테고리별 이미지 묶기"
   ]
  },
  {
   "cell_type": "code",
   "execution_count": null,
   "metadata": {},
   "outputs": [],
   "source": [
    "import os\n",
    "\n",
    "path = 'Final_pro/img2'\n",
    "file_list = os.listdir(path)\n",
    "file_list_py = [file for file in file_list if file.endswith('.jpg')]"
   ]
  },
  {
   "cell_type": "code",
   "execution_count": null,
   "metadata": {},
   "outputs": [
    {
     "data": {
      "text/html": [
       "<div>\n",
       "<style scoped>\n",
       "    .dataframe tbody tr th:only-of-type {\n",
       "        vertical-align: middle;\n",
       "    }\n",
       "\n",
       "    .dataframe tbody tr th {\n",
       "        vertical-align: top;\n",
       "    }\n",
       "\n",
       "    .dataframe thead th {\n",
       "        text-align: right;\n",
       "    }\n",
       "</style>\n",
       "<table border=\"1\" class=\"dataframe\">\n",
       "  <thead>\n",
       "    <tr style=\"text-align: right;\">\n",
       "      <th></th>\n",
       "      <th>keyword</th>\n",
       "      <th>address_name</th>\n",
       "      <th>category_group_code</th>\n",
       "      <th>category_group_name</th>\n",
       "      <th>category_name</th>\n",
       "      <th>distance</th>\n",
       "      <th>id</th>\n",
       "      <th>phone</th>\n",
       "      <th>place_name</th>\n",
       "      <th>place_url</th>\n",
       "      <th>road_address_name</th>\n",
       "      <th>x</th>\n",
       "      <th>y</th>\n",
       "      <th>rating</th>\n",
       "      <th>img_link</th>\n",
       "    </tr>\n",
       "    <tr>\n",
       "      <th>index</th>\n",
       "      <th></th>\n",
       "      <th></th>\n",
       "      <th></th>\n",
       "      <th></th>\n",
       "      <th></th>\n",
       "      <th></th>\n",
       "      <th></th>\n",
       "      <th></th>\n",
       "      <th></th>\n",
       "      <th></th>\n",
       "      <th></th>\n",
       "      <th></th>\n",
       "      <th></th>\n",
       "      <th></th>\n",
       "      <th></th>\n",
       "    </tr>\n",
       "  </thead>\n",
       "  <tbody>\n",
       "    <tr>\n",
       "      <th>0</th>\n",
       "      <td>테마파크,가볼만한 곳</td>\n",
       "      <td>제주특별자치도 서귀포시 법환동 877-3</td>\n",
       "      <td>AT4</td>\n",
       "      <td>관광명소</td>\n",
       "      <td>여행 &gt; 관광,명소 &gt; 테마파크</td>\n",
       "      <td>NaN</td>\n",
       "      <td>10472331</td>\n",
       "      <td>064-739-8254</td>\n",
       "      <td>세리월드</td>\n",
       "      <td>http://place.map.kakao.com/10472331</td>\n",
       "      <td>제주특별자치도 서귀포시 법환상로2번길 97-17</td>\n",
       "      <td>126.511874</td>\n",
       "      <td>33.247016</td>\n",
       "      <td>3.7</td>\n",
       "      <td>https://img1.kakaocdn.net/relay/local/R640x320...</td>\n",
       "    </tr>\n",
       "    <tr>\n",
       "      <th>1</th>\n",
       "      <td>테마파크,가볼만한 곳</td>\n",
       "      <td>제주특별자치도 서귀포시 법환동 914</td>\n",
       "      <td>AT4</td>\n",
       "      <td>관광명소</td>\n",
       "      <td>여행 &gt; 관광,명소 &gt; 테마파크 &gt; 워터테마파크</td>\n",
       "      <td>NaN</td>\n",
       "      <td>17150892</td>\n",
       "      <td>064-739-1930</td>\n",
       "      <td>제주워터월드</td>\n",
       "      <td>http://place.map.kakao.com/17150892</td>\n",
       "      <td>제주특별자치도 서귀포시 월드컵로 33</td>\n",
       "      <td>126.508546</td>\n",
       "      <td>33.245507</td>\n",
       "      <td>2.7</td>\n",
       "      <td>https://img1.kakaocdn.net/relay/local/R640x320...</td>\n",
       "    </tr>\n",
       "    <tr>\n",
       "      <th>2</th>\n",
       "      <td>테마파크,가볼만한 곳</td>\n",
       "      <td>제주특별자치도 서귀포시 토평동 1799</td>\n",
       "      <td>AT4</td>\n",
       "      <td>관광명소</td>\n",
       "      <td>여행 &gt; 관광,명소 &gt; 테마파크</td>\n",
       "      <td>NaN</td>\n",
       "      <td>820826091</td>\n",
       "      <td>064-733-3500</td>\n",
       "      <td>윈드1947카트테마파크</td>\n",
       "      <td>http://place.map.kakao.com/820826091</td>\n",
       "      <td>제주특별자치도 서귀포시 토평공단로 78-27</td>\n",
       "      <td>126.588827</td>\n",
       "      <td>33.289519</td>\n",
       "      <td>3.7</td>\n",
       "      <td>https://img1.kakaocdn.net/relay/local/R640x320...</td>\n",
       "    </tr>\n",
       "    <tr>\n",
       "      <th>3</th>\n",
       "      <td>테마파크,가볼만한 곳</td>\n",
       "      <td>제주특별자치도 서귀포시 중문동 2565</td>\n",
       "      <td>AT4</td>\n",
       "      <td>관광명소</td>\n",
       "      <td>여행 &gt; 관광,명소 &gt; 테마파크</td>\n",
       "      <td>NaN</td>\n",
       "      <td>780499262</td>\n",
       "      <td>NaN</td>\n",
       "      <td>액트몬 제주중문점</td>\n",
       "      <td>http://place.map.kakao.com/780499262</td>\n",
       "      <td>제주특별자치도 서귀포시 중문관광로 205</td>\n",
       "      <td>126.421517</td>\n",
       "      <td>33.243686</td>\n",
       "      <td>4.5</td>\n",
       "      <td>https://img1.kakaocdn.net/relay/local/R640x320...</td>\n",
       "    </tr>\n",
       "    <tr>\n",
       "      <th>4</th>\n",
       "      <td>테마파크,가볼만한 곳</td>\n",
       "      <td>제주특별자치도 서귀포시 색달동 2950-4</td>\n",
       "      <td>AT4</td>\n",
       "      <td>관광명소</td>\n",
       "      <td>여행 &gt; 관광,명소 &gt; 테마파크</td>\n",
       "      <td>NaN</td>\n",
       "      <td>10880885</td>\n",
       "      <td>1544-2988</td>\n",
       "      <td>퍼시픽 리솜 마린스테이지</td>\n",
       "      <td>http://place.map.kakao.com/10880885</td>\n",
       "      <td>제주특별자치도 서귀포시 중문관광로 154-17</td>\n",
       "      <td>126.415575</td>\n",
       "      <td>33.243856</td>\n",
       "      <td>2.9</td>\n",
       "      <td>https://img1.kakaocdn.net/relay/local/R640x320...</td>\n",
       "    </tr>\n",
       "  </tbody>\n",
       "</table>\n",
       "</div>"
      ],
      "text/plain": [
       "           keyword             address_name category_group_code  \\\n",
       "index                                                             \n",
       "0      테마파크,가볼만한 곳   제주특별자치도 서귀포시 법환동 877-3                 AT4   \n",
       "1      테마파크,가볼만한 곳     제주특별자치도 서귀포시 법환동 914                 AT4   \n",
       "2      테마파크,가볼만한 곳    제주특별자치도 서귀포시 토평동 1799                 AT4   \n",
       "3      테마파크,가볼만한 곳    제주특별자치도 서귀포시 중문동 2565                 AT4   \n",
       "4      테마파크,가볼만한 곳  제주특별자치도 서귀포시 색달동 2950-4                 AT4   \n",
       "\n",
       "      category_group_name               category_name  distance         id  \\\n",
       "index                                                                        \n",
       "0                    관광명소           여행 > 관광,명소 > 테마파크       NaN   10472331   \n",
       "1                    관광명소  여행 > 관광,명소 > 테마파크 > 워터테마파크       NaN   17150892   \n",
       "2                    관광명소           여행 > 관광,명소 > 테마파크       NaN  820826091   \n",
       "3                    관광명소           여행 > 관광,명소 > 테마파크       NaN  780499262   \n",
       "4                    관광명소           여행 > 관광,명소 > 테마파크       NaN   10880885   \n",
       "\n",
       "              phone     place_name                             place_url  \\\n",
       "index                                                                      \n",
       "0      064-739-8254           세리월드   http://place.map.kakao.com/10472331   \n",
       "1      064-739-1930         제주워터월드   http://place.map.kakao.com/17150892   \n",
       "2      064-733-3500   윈드1947카트테마파크  http://place.map.kakao.com/820826091   \n",
       "3               NaN      액트몬 제주중문점  http://place.map.kakao.com/780499262   \n",
       "4         1544-2988  퍼시픽 리솜 마린스테이지   http://place.map.kakao.com/10880885   \n",
       "\n",
       "                road_address_name           x          y  rating  \\\n",
       "index                                                              \n",
       "0      제주특별자치도 서귀포시 법환상로2번길 97-17  126.511874  33.247016     3.7   \n",
       "1            제주특별자치도 서귀포시 월드컵로 33  126.508546  33.245507     2.7   \n",
       "2        제주특별자치도 서귀포시 토평공단로 78-27  126.588827  33.289519     3.7   \n",
       "3          제주특별자치도 서귀포시 중문관광로 205  126.421517  33.243686     4.5   \n",
       "4       제주특별자치도 서귀포시 중문관광로 154-17  126.415575  33.243856     2.9   \n",
       "\n",
       "                                                img_link  \n",
       "index                                                     \n",
       "0      https://img1.kakaocdn.net/relay/local/R640x320...  \n",
       "1      https://img1.kakaocdn.net/relay/local/R640x320...  \n",
       "2      https://img1.kakaocdn.net/relay/local/R640x320...  \n",
       "3      https://img1.kakaocdn.net/relay/local/R640x320...  \n",
       "4      https://img1.kakaocdn.net/relay/local/R640x320...  "
      ]
     },
     "metadata": {},
     "output_type": "display_data"
    }
   ],
   "source": [
    "import pandas as pd\n",
    "place_xlsx = pd.read_excel(\"Final_pro/Have_img_place_seogipo.xlsx\").set_index(\"index\")\n",
    "place_xlsx.head()"
   ]
  },
  {
   "cell_type": "code",
   "execution_count": null,
   "metadata": {},
   "outputs": [],
   "source": [
    "import pandas as pd \n",
    "import shutil\n",
    "\n",
    "for i in file_list_py:\n",
    "    idx = int(i.split(\"_\")[0])\n",
    "\n",
    "    if place_xlsx[\"category_group_name\"][idx]==\"관광명소\":\n",
    "        filename = i\n",
    "        src = 'Final_pro/img2/' \n",
    "        dir = 'Final_pro/img2/관광명소/'\n",
    "        shutil.move(src + filename, dir + filename)\n",
    "    elif place_xlsx[\"category_group_name\"][idx]==\"카페\":\n",
    "        filename = i\n",
    "        src = 'Final_pro/img2/' \n",
    "        dir = 'Final_pro/img2/카페/'\n",
    "        shutil.move(src + filename, dir + filename)\n",
    "    elif place_xlsx[\"category_group_name\"][idx]==\"음식점\":\n",
    "        filename = i\n",
    "        src = 'Final_pro/img2/' \n",
    "        dir = 'Final_pro/img2/음식점/'\n",
    "        shutil.move(src + filename, dir + filename)"
   ]
  }
 ],
 "metadata": {
  "interpreter": {
   "hash": "e8d1aadc86641a503cc85f3c31cf023fc3f320b31f990619997eea29654d4852"
  },
  "kernelspec": {
   "display_name": "Python 3.8.11 64-bit ('ds_study': conda)",
   "language": "python",
   "name": "python3"
  },
  "language_info": {
   "codemirror_mode": {
    "name": "ipython",
    "version": 3
   },
   "file_extension": ".py",
   "mimetype": "text/x-python",
   "name": "python",
   "nbconvert_exporter": "python",
   "pygments_lexer": "ipython3",
   "version": "3.8.11"
  },
  "orig_nbformat": 4
 },
 "nbformat": 4,
 "nbformat_minor": 2
}
 
