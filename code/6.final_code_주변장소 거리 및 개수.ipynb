{
 "cells": [
  {
   "cell_type": "markdown",
   "metadata": {},
   "source": [
    "# 숙박 시설↔관광지 거리"
   ]
  },
  {
   "cell_type": "markdown",
   "metadata": {},
   "source": [
    "- 관광지 주변의 숙박 시설을 보여주기 위해 숙박 시설과 관광명소 사이의 거리를 Pandas.Dataframe 형태로 저장"
   ]
  },
  {
   "cell_type": "code",
   "execution_count": null,
   "metadata": {},
   "outputs": [],
   "source": [
    "import pandas as pd\n",
    "\n",
    "accom_poi = pd.read_excel('./data/220124/_종합_숙박.xlsx', index_col=False)\n",
    "jeju_poi = pd.read_excel('./data/220123/_종합_POI_content.xlsx', index_col=False)"
   ]
  },
  {
   "cell_type": "code",
   "execution_count": null,
   "metadata": {},
   "outputs": [
    {
     "data": {
      "text/html": [
       "<div>\n",
       "<style scoped>\n",
       "    .dataframe tbody tr th:only-of-type {\n",
       "        vertical-align: middle;\n",
       "    }\n",
       "\n",
       "    .dataframe tbody tr th {\n",
       "        vertical-align: top;\n",
       "    }\n",
       "\n",
       "    .dataframe thead th {\n",
       "        text-align: right;\n",
       "    }\n",
       "</style>\n",
       "<table border=\"1\" class=\"dataframe\">\n",
       "  <thead>\n",
       "    <tr style=\"text-align: right;\">\n",
       "      <th></th>\n",
       "      <th>id</th>\n",
       "      <th>place_name</th>\n",
       "      <th>address_name</th>\n",
       "      <th>place_url</th>\n",
       "      <th>x</th>\n",
       "      <th>y</th>\n",
       "      <th>keyword</th>\n",
       "      <th>rating</th>\n",
       "      <th>grade</th>\n",
       "    </tr>\n",
       "  </thead>\n",
       "  <tbody>\n",
       "    <tr>\n",
       "      <th>0</th>\n",
       "      <td>907075</td>\n",
       "      <td>월정힐펜션</td>\n",
       "      <td>제주특별자치도 제주시 구좌읍 월정리 699-3</td>\n",
       "      <td>http://place.map.kakao.com/907075</td>\n",
       "      <td>126.791441</td>\n",
       "      <td>33.557925</td>\n",
       "      <td>펜션</td>\n",
       "      <td>5.0</td>\n",
       "      <td>펜션</td>\n",
       "    </tr>\n",
       "  </tbody>\n",
       "</table>\n",
       "</div>"
      ],
      "text/plain": [
       "       id place_name               address_name  \\\n",
       "0  907075      월정힐펜션  제주특별자치도 제주시 구좌읍 월정리 699-3   \n",
       "\n",
       "                           place_url           x          y keyword  rating  \\\n",
       "0  http://place.map.kakao.com/907075  126.791441  33.557925      펜션     5.0   \n",
       "\n",
       "  grade  \n",
       "0    펜션  "
      ]
     },
     "metadata": {},
     "output_type": "display_data"
    }
   ],
   "source": [
    "accom_poi.head(1)"
   ]
  },
  {
   "cell_type": "code",
   "execution_count": null,
   "metadata": {},
   "outputs": [
    {
     "data": {
      "text/html": [
       "<div>\n",
       "<style scoped>\n",
       "    .dataframe tbody tr th:only-of-type {\n",
       "        vertical-align: middle;\n",
       "    }\n",
       "\n",
       "    .dataframe tbody tr th {\n",
       "        vertical-align: top;\n",
       "    }\n",
       "\n",
       "    .dataframe thead th {\n",
       "        text-align: right;\n",
       "    }\n",
       "</style>\n",
       "<table border=\"1\" class=\"dataframe\">\n",
       "  <thead>\n",
       "    <tr style=\"text-align: right;\">\n",
       "      <th></th>\n",
       "      <th>idx</th>\n",
       "      <th>keyword</th>\n",
       "      <th>address_name</th>\n",
       "      <th>category_group_name</th>\n",
       "      <th>category_name</th>\n",
       "      <th>id</th>\n",
       "      <th>place_name</th>\n",
       "      <th>x</th>\n",
       "      <th>y</th>\n",
       "      <th>rating</th>\n",
       "      <th>kind</th>\n",
       "      <th>content</th>\n",
       "    </tr>\n",
       "  </thead>\n",
       "  <tbody>\n",
       "    <tr>\n",
       "      <th>0</th>\n",
       "      <td>0</td>\n",
       "      <td>테마파크</td>\n",
       "      <td>제주특별자치도 제주시 연동 1320</td>\n",
       "      <td>관광명소</td>\n",
       "      <td>문화,예술 &gt; 문화시설 &gt; 박물관</td>\n",
       "      <td>26388484</td>\n",
       "      <td>수목원테마파크 아이스뮤지엄</td>\n",
       "      <td>126.488398</td>\n",
       "      <td>33.470777</td>\n",
       "      <td>1.0</td>\n",
       "      <td>제주시</td>\n",
       "      <td>테마파크 관광명소</td>\n",
       "    </tr>\n",
       "  </tbody>\n",
       "</table>\n",
       "</div>"
      ],
      "text/plain": [
       "   idx keyword         address_name category_group_name       category_name  \\\n",
       "0    0    테마파크  제주특별자치도 제주시 연동 1320                관광명소  문화,예술 > 문화시설 > 박물관   \n",
       "\n",
       "         id      place_name           x          y  rating kind    content  \n",
       "0  26388484  수목원테마파크 아이스뮤지엄  126.488398  33.470777     1.0  제주시  테마파크 관광명소  "
      ]
     },
     "metadata": {},
     "output_type": "display_data"
    }
   ],
   "source": [
    "jeju_poi.head(1)"
   ]
  },
  {
   "cell_type": "markdown",
   "metadata": {},
   "source": [
    "## 1. 위도, 경도를 이용한 직선거리 함수"
   ]
  },
  {
   "cell_type": "markdown",
   "metadata": {},
   "source": [
    "- 위도, 경도 계산\n",
    "    - 우리나라 기준 1도 = 88.8km, 1분 = 1.48km, 1초 = 25m\n",
    "    - 구글의 좌표는 `도` 기준\n",
    "    - 위도 차이 : ((a.lat - b.lat) * 88.8) km\n",
    "    - 경도 차이 : ((a.lng - b.lng) * 88.8) km\n",
    "    - 거리 차이 : (위도 차이 ** 2 + 경도 차이 ** 2) ** (1/2) km"
   ]
  },
  {
   "cell_type": "markdown",
   "metadata": {},
   "source": [
    "**미리 계산을 진행해둘 계획이였지만, 계산이 오래 거릴지 않아 함수만 유지**"
   ]
  },
  {
   "cell_type": "code",
   "execution_count": null,
   "metadata": {},
   "outputs": [],
   "source": [
    "# pos1 : (x좌표, y좌표)\n",
    "# pos2 : (x좌표, y좌표)\n",
    "def cal_dist(pos1, pos2):\n",
    "    return (((pos1[1] - pos2[1])*88.8)**2 +((pos1[0] - pos2[0])*88.8)**2)**(1/2)"
   ]
  },
  {
   "cell_type": "markdown",
   "metadata": {},
   "source": [
    "## 2. 숙박 시설↔관광지 거리"
   ]
  },
  {
   "cell_type": "markdown",
   "metadata": {},
   "source": [
    "- **계산이 예상보다 빨라서 필요한 경우 계산하여 사용하는 것으로 결정**"
   ]
  },
  {
   "cell_type": "code",
   "execution_count": null,
   "metadata": {},
   "outputs": [
    {
     "data": {
      "application/vnd.jupyter.widget-view+json": {
       "model_id": "9dd21270002c4a94b71ca42267748144",
       "version_major": 2,
       "version_minor": 0
      },
      "text/plain": [
       "0it [00:00, ?it/s]"
      ]
     },
     "metadata": {},
     "output_type": "display_data"
    },
    {
     "name": "stderr",
     "output_type": "stream",
     "text": [
      "C:\\Users\\ISANGH~1\\AppData\\Local\\Temp/ipykernel_31216/1861455450.py:4: PerformanceWarning: DataFrame is highly fragmented.  This is usually the result of calling `frame.insert` many times, which has poor performance.  Consider joining all columns at once using pd.concat(axis=1) instead.  To get a de-fragmented frame, use `newframe = frame.copy()`\n",
      "  accom_poi[str(row['id'])] = cal_dist((accom_poi['x'], accom_poi['y']), (row['x'], row['y']))\n"
     ]
    }
   ],
   "source": [
    "from tqdm.notebook import tqdm\n",
    "\n",
    "for idx, row in tqdm(jeju_poi.iterrows()):\n",
    "    accom_poi[str(row['id'])] = cal_dist((accom_poi['x'], accom_poi['y']), (row['x'], row['y']))"
   ]
  },
  {
   "cell_type": "code",
   "execution_count": null,
   "metadata": {},
   "outputs": [
    {
     "name": "stdout",
     "output_type": "stream",
     "text": [
      "<class 'pandas.core.frame.DataFrame'>\n",
      "RangeIndex: 3004 entries, 0 to 3003\n",
      "Columns: 3017 entries, id to 25548687\n",
      "dtypes: float64(3011), int64(1), object(5)\n",
      "memory usage: 69.1+ MB\n"
     ]
    }
   ],
   "source": [
    "accom_poi.info()"
   ]
  },
  {
   "cell_type": "code",
   "execution_count": null,
   "metadata": {},
   "outputs": [
    {
     "data": {
      "text/html": [
       "<div>\n",
       "<style scoped>\n",
       "    .dataframe tbody tr th:only-of-type {\n",
       "        vertical-align: middle;\n",
       "    }\n",
       "\n",
       "    .dataframe tbody tr th {\n",
       "        vertical-align: top;\n",
       "    }\n",
       "\n",
       "    .dataframe thead th {\n",
       "        text-align: right;\n",
       "    }\n",
       "</style>\n",
       "<table border=\"1\" class=\"dataframe\">\n",
       "  <thead>\n",
       "    <tr style=\"text-align: right;\">\n",
       "      <th></th>\n",
       "      <th>id</th>\n",
       "      <th>place_name</th>\n",
       "      <th>address_name</th>\n",
       "      <th>place_url</th>\n",
       "      <th>x</th>\n",
       "      <th>y</th>\n",
       "      <th>keyword</th>\n",
       "      <th>rating</th>\n",
       "      <th>grade</th>\n",
       "      <th>26388484</th>\n",
       "      <th>...</th>\n",
       "      <th>1643413816</th>\n",
       "      <th>13723872</th>\n",
       "      <th>27441187</th>\n",
       "      <th>742400088</th>\n",
       "      <th>1218626372</th>\n",
       "      <th>18951459</th>\n",
       "      <th>75702988</th>\n",
       "      <th>1421354324</th>\n",
       "      <th>1620380468</th>\n",
       "      <th>25548687</th>\n",
       "    </tr>\n",
       "  </thead>\n",
       "  <tbody>\n",
       "    <tr>\n",
       "      <th>0</th>\n",
       "      <td>907075</td>\n",
       "      <td>월정힐펜션</td>\n",
       "      <td>제주특별자치도 제주시 구좌읍 월정리 699-3</td>\n",
       "      <td>http://place.map.kakao.com/907075</td>\n",
       "      <td>126.791441</td>\n",
       "      <td>33.557925</td>\n",
       "      <td>펜션</td>\n",
       "      <td>5.0</td>\n",
       "      <td>펜션</td>\n",
       "      <td>28.00091</td>\n",
       "      <td>...</td>\n",
       "      <td>25.889372</td>\n",
       "      <td>27.345294</td>\n",
       "      <td>31.238286</td>\n",
       "      <td>31.180461</td>\n",
       "      <td>31.241943</td>\n",
       "      <td>31.227433</td>\n",
       "      <td>30.986696</td>\n",
       "      <td>31.23961</td>\n",
       "      <td>30.542049</td>\n",
       "      <td>29.131936</td>\n",
       "    </tr>\n",
       "  </tbody>\n",
       "</table>\n",
       "<p>1 rows × 3017 columns</p>\n",
       "</div>"
      ],
      "text/plain": [
       "       id place_name               address_name  \\\n",
       "0  907075      월정힐펜션  제주특별자치도 제주시 구좌읍 월정리 699-3   \n",
       "\n",
       "                           place_url           x          y keyword  rating  \\\n",
       "0  http://place.map.kakao.com/907075  126.791441  33.557925      펜션     5.0   \n",
       "\n",
       "  grade  26388484  ...  1643413816   13723872   27441187  742400088  \\\n",
       "0    펜션  28.00091  ...   25.889372  27.345294  31.238286  31.180461   \n",
       "\n",
       "   1218626372   18951459   75702988  1421354324  1620380468   25548687  \n",
       "0   31.241943  31.227433  30.986696    31.23961   30.542049  29.131936  \n",
       "\n",
       "[1 rows x 3017 columns]"
      ]
     },
     "metadata": {},
     "output_type": "display_data"
    }
   ],
   "source": [
    "accom_poi.head(1)"
   ]
  },
  {
   "cell_type": "markdown",
   "metadata": {},
   "source": [
    "# 주변 관광지 개수"
   ]
  },
  {
   "cell_type": "markdown",
   "metadata": {},
   "source": [
    "- 5KM(임시) 내의 주변 관광지 개수 : 관광명소, 음식점, 카페"
   ]
  },
  {
   "cell_type": "code",
   "execution_count": null,
   "metadata": {},
   "outputs": [],
   "source": [
    "import pandas as pd\n",
    "\n",
    "jeju_poi = pd.read_excel('./data/220123/_종합_POI_content.xlsx', index_col=False)"
   ]
  },
  {
   "cell_type": "code",
   "execution_count": null,
   "metadata": {},
   "outputs": [
    {
     "data": {
      "text/html": [
       "<div>\n",
       "<style scoped>\n",
       "    .dataframe tbody tr th:only-of-type {\n",
       "        vertical-align: middle;\n",
       "    }\n",
       "\n",
       "    .dataframe tbody tr th {\n",
       "        vertical-align: top;\n",
       "    }\n",
       "\n",
       "    .dataframe thead th {\n",
       "        text-align: right;\n",
       "    }\n",
       "</style>\n",
       "<table border=\"1\" class=\"dataframe\">\n",
       "  <thead>\n",
       "    <tr style=\"text-align: right;\">\n",
       "      <th></th>\n",
       "      <th>idx</th>\n",
       "      <th>keyword</th>\n",
       "      <th>address_name</th>\n",
       "      <th>category_group_name</th>\n",
       "      <th>category_name</th>\n",
       "      <th>id</th>\n",
       "      <th>place_name</th>\n",
       "      <th>x</th>\n",
       "      <th>y</th>\n",
       "      <th>rating</th>\n",
       "      <th>kind</th>\n",
       "      <th>content</th>\n",
       "    </tr>\n",
       "  </thead>\n",
       "  <tbody>\n",
       "    <tr>\n",
       "      <th>0</th>\n",
       "      <td>0</td>\n",
       "      <td>테마파크</td>\n",
       "      <td>제주특별자치도 제주시 연동 1320</td>\n",
       "      <td>관광명소</td>\n",
       "      <td>문화,예술 &gt; 문화시설 &gt; 박물관</td>\n",
       "      <td>26388484</td>\n",
       "      <td>수목원테마파크 아이스뮤지엄</td>\n",
       "      <td>126.488398</td>\n",
       "      <td>33.470777</td>\n",
       "      <td>1.0</td>\n",
       "      <td>제주시</td>\n",
       "      <td>테마파크 관광명소</td>\n",
       "    </tr>\n",
       "  </tbody>\n",
       "</table>\n",
       "</div>"
      ],
      "text/plain": [
       "   idx keyword         address_name category_group_name       category_name  \\\n",
       "0    0    테마파크  제주특별자치도 제주시 연동 1320                관광명소  문화,예술 > 문화시설 > 박물관   \n",
       "\n",
       "         id      place_name           x          y  rating kind    content  \n",
       "0  26388484  수목원테마파크 아이스뮤지엄  126.488398  33.470777     1.0  제주시  테마파크 관광명소  "
      ]
     },
     "metadata": {},
     "output_type": "display_data"
    }
   ],
   "source": [
    "jeju_poi.head(1)"
   ]
  },
  {
   "cell_type": "markdown",
   "metadata": {},
   "source": [
    "## 1. 주변 광광지 개수 계산 함수"
   ]
  },
  {
   "cell_type": "code",
   "execution_count": null,
   "metadata": {},
   "outputs": [],
   "source": [
    "def adjacent_poi_count(poi1, poi2):\n",
    "    dist = cal_dist(poi1, poi2)\n",
    "    return len(dist[dist <= 5])"
   ]
  },
  {
   "cell_type": "markdown",
   "metadata": {},
   "source": [
    "## 2. 주변 관광지 개수"
   ]
  },
  {
   "cell_type": "markdown",
   "metadata": {},
   "source": [
    "- adjacent_tour : 주변 관광명소 수 \n",
    "- adjacent_rest : 주변 음식점 수\n",
    "- adjacent_cafe : 주변 카페 수"
   ]
  },
  {
   "cell_type": "code",
   "execution_count": null,
   "metadata": {},
   "outputs": [
    {
     "data": {
      "application/vnd.jupyter.widget-view+json": {
       "model_id": "f8d35167e98f4c9c918afce49bfa02ef",
       "version_major": 2,
       "version_minor": 0
      },
      "text/plain": [
       "0it [00:00, ?it/s]"
      ]
     },
     "metadata": {},
     "output_type": "display_data"
    }
   ],
   "source": [
    "from tqdm.notebook import tqdm\n",
    "\n",
    "jeju_poi['adjacent_tour'] = 0\n",
    "jeju_poi['adjacent_rest'] = 0\n",
    "jeju_poi['adjacent_cafe'] = 0\n",
    "for idx, row in tqdm(jeju_poi.iterrows()):\n",
    "    temp_tour = jeju_poi.drop(idx, axis=0).query('category_group_name == \"관광명소\"')\n",
    "    temp_rest = jeju_poi.drop(idx, axis=0).query('category_group_name == \"음식점\"')\n",
    "    temp_cafe = jeju_poi.drop(idx, axis=0).query('category_group_name == \"카페\"')\n",
    "\n",
    "    jeju_poi.loc[idx, 'adjacent_tour'] = adjacent_poi_count((row['x'], row['y']), (temp_tour['x'], temp_tour['y']))\n",
    "    jeju_poi.loc[idx, 'adjacent_rest'] = adjacent_poi_count((row['x'], row['y']), (temp_rest['x'], temp_rest['y']))\n",
    "    jeju_poi.loc[idx, 'adjacent_cafe'] = adjacent_poi_count((row['x'], row['y']), (temp_cafe['x'], temp_cafe['y']))\n",
    "\n",
    "    del temp_tour\n",
    "    del temp_rest\n",
    "    del temp_cafe"
   ]
  },
  {
   "cell_type": "code",
   "execution_count": null,
   "metadata": {},
   "outputs": [
    {
     "data": {
      "text/html": [
       "<div>\n",
       "<style scoped>\n",
       "    .dataframe tbody tr th:only-of-type {\n",
       "        vertical-align: middle;\n",
       "    }\n",
       "\n",
       "    .dataframe tbody tr th {\n",
       "        vertical-align: top;\n",
       "    }\n",
       "\n",
       "    .dataframe thead th {\n",
       "        text-align: right;\n",
       "    }\n",
       "</style>\n",
       "<table border=\"1\" class=\"dataframe\">\n",
       "  <thead>\n",
       "    <tr style=\"text-align: right;\">\n",
       "      <th></th>\n",
       "      <th>adjacent_tour</th>\n",
       "      <th>adjacent_rest</th>\n",
       "      <th>adjacent_cafe</th>\n",
       "    </tr>\n",
       "  </thead>\n",
       "  <tbody>\n",
       "    <tr>\n",
       "      <th>0</th>\n",
       "      <td>29</td>\n",
       "      <td>268</td>\n",
       "      <td>138</td>\n",
       "    </tr>\n",
       "    <tr>\n",
       "      <th>1</th>\n",
       "      <td>17</td>\n",
       "      <td>168</td>\n",
       "      <td>45</td>\n",
       "    </tr>\n",
       "    <tr>\n",
       "      <th>2</th>\n",
       "      <td>22</td>\n",
       "      <td>43</td>\n",
       "      <td>16</td>\n",
       "    </tr>\n",
       "    <tr>\n",
       "      <th>3</th>\n",
       "      <td>19</td>\n",
       "      <td>21</td>\n",
       "      <td>6</td>\n",
       "    </tr>\n",
       "    <tr>\n",
       "      <th>4</th>\n",
       "      <td>19</td>\n",
       "      <td>131</td>\n",
       "      <td>56</td>\n",
       "    </tr>\n",
       "  </tbody>\n",
       "</table>\n",
       "</div>"
      ],
      "text/plain": [
       "   adjacent_tour  adjacent_rest  adjacent_cafe\n",
       "0             29            268            138\n",
       "1             17            168             45\n",
       "2             22             43             16\n",
       "3             19             21              6\n",
       "4             19            131             56"
      ]
     },
     "metadata": {},
     "output_type": "display_data"
    }
   ],
   "source": [
    "jeju_poi[['adjacent_tour', 'adjacent_rest', 'adjacent_cafe']].head(5)"
   ]
  },
  {
   "cell_type": "code",
   "execution_count": null,
   "metadata": {},
   "outputs": [],
   "source": [
    "jeju_poi.to_excel('./data/220124/_종합_POI_주변관광지.xlsx', index=False)"
   ]
  },
  {
   "cell_type": "markdown",
   "metadata": {},
   "source": [
    "## 3. 데이터 확인"
   ]
  },
  {
   "cell_type": "code",
   "execution_count": null,
   "metadata": {},
   "outputs": [],
   "source": [
    "import pandas as pd\n",
    "\n",
    "jeju_poi_adjacent = pd.read_excel('./data/220124/_종합_POI_주변관광지.xlsx', index_col=False)"
   ]
  },
  {
   "cell_type": "code",
   "execution_count": null,
   "metadata": {},
   "outputs": [
    {
     "data": {
      "text/html": [
       "<div>\n",
       "<style scoped>\n",
       "    .dataframe tbody tr th:only-of-type {\n",
       "        vertical-align: middle;\n",
       "    }\n",
       "\n",
       "    .dataframe tbody tr th {\n",
       "        vertical-align: top;\n",
       "    }\n",
       "\n",
       "    .dataframe thead th {\n",
       "        text-align: right;\n",
       "    }\n",
       "</style>\n",
       "<table border=\"1\" class=\"dataframe\">\n",
       "  <thead>\n",
       "    <tr style=\"text-align: right;\">\n",
       "      <th></th>\n",
       "      <th>idx</th>\n",
       "      <th>keyword</th>\n",
       "      <th>address_name</th>\n",
       "      <th>category_group_name</th>\n",
       "      <th>category_name</th>\n",
       "      <th>id</th>\n",
       "      <th>place_name</th>\n",
       "      <th>x</th>\n",
       "      <th>y</th>\n",
       "      <th>rating</th>\n",
       "      <th>kind</th>\n",
       "      <th>content</th>\n",
       "      <th>adjacent_tour</th>\n",
       "      <th>adjacent_rest</th>\n",
       "      <th>adjacent_cafe</th>\n",
       "    </tr>\n",
       "  </thead>\n",
       "  <tbody>\n",
       "    <tr>\n",
       "      <th>0</th>\n",
       "      <td>0</td>\n",
       "      <td>테마파크</td>\n",
       "      <td>제주특별자치도 제주시 연동 1320</td>\n",
       "      <td>관광명소</td>\n",
       "      <td>문화,예술 &gt; 문화시설 &gt; 박물관</td>\n",
       "      <td>26388484</td>\n",
       "      <td>수목원테마파크 아이스뮤지엄</td>\n",
       "      <td>126.488398</td>\n",
       "      <td>33.470777</td>\n",
       "      <td>1.0</td>\n",
       "      <td>제주시</td>\n",
       "      <td>테마파크 관광명소</td>\n",
       "      <td>29</td>\n",
       "      <td>268</td>\n",
       "      <td>138</td>\n",
       "    </tr>\n",
       "    <tr>\n",
       "      <th>1</th>\n",
       "      <td>1</td>\n",
       "      <td>테마파크,가볼만한 곳</td>\n",
       "      <td>제주특별자치도 제주시 애월읍 신엄리 2880-12</td>\n",
       "      <td>관광명소</td>\n",
       "      <td>여행 &gt; 관광,명소 &gt; 테마파크</td>\n",
       "      <td>1129394481</td>\n",
       "      <td>고스트타운</td>\n",
       "      <td>126.356936</td>\n",
       "      <td>33.476195</td>\n",
       "      <td>3.4</td>\n",
       "      <td>제주시</td>\n",
       "      <td>테마파크 가볼만한곳 관광명소</td>\n",
       "      <td>17</td>\n",
       "      <td>168</td>\n",
       "      <td>45</td>\n",
       "    </tr>\n",
       "    <tr>\n",
       "      <th>2</th>\n",
       "      <td>2</td>\n",
       "      <td>테마파크,가볼만한 곳</td>\n",
       "      <td>제주특별자치도 제주시 애월읍 유수암리 1083</td>\n",
       "      <td>관광명소</td>\n",
       "      <td>여행 &gt; 관광,명소 &gt; 테마파크</td>\n",
       "      <td>891104398</td>\n",
       "      <td>제주불빛정원</td>\n",
       "      <td>126.409179</td>\n",
       "      <td>33.422294</td>\n",
       "      <td>4.1</td>\n",
       "      <td>제주시</td>\n",
       "      <td>테마파크 가볼만한곳 관광명소</td>\n",
       "      <td>22</td>\n",
       "      <td>43</td>\n",
       "      <td>16</td>\n",
       "    </tr>\n",
       "  </tbody>\n",
       "</table>\n",
       "</div>"
      ],
      "text/plain": [
       "   idx      keyword                 address_name category_group_name  \\\n",
       "0    0         테마파크          제주특별자치도 제주시 연동 1320                관광명소   \n",
       "1    1  테마파크,가볼만한 곳  제주특별자치도 제주시 애월읍 신엄리 2880-12                관광명소   \n",
       "2    2  테마파크,가볼만한 곳    제주특별자치도 제주시 애월읍 유수암리 1083                관광명소   \n",
       "\n",
       "        category_name          id      place_name           x          y  \\\n",
       "0  문화,예술 > 문화시설 > 박물관    26388484  수목원테마파크 아이스뮤지엄  126.488398  33.470777   \n",
       "1   여행 > 관광,명소 > 테마파크  1129394481           고스트타운  126.356936  33.476195   \n",
       "2   여행 > 관광,명소 > 테마파크   891104398          제주불빛정원  126.409179  33.422294   \n",
       "\n",
       "   rating kind          content  adjacent_tour  adjacent_rest  adjacent_cafe  \n",
       "0     1.0  제주시        테마파크 관광명소             29            268            138  \n",
       "1     3.4  제주시  테마파크 가볼만한곳 관광명소             17            168             45  \n",
       "2     4.1  제주시  테마파크 가볼만한곳 관광명소             22             43             16  "
      ]
     },
     "metadata": {},
     "output_type": "display_data"
    }
   ],
   "source": [
    "jeju_poi_adjacent.head(3)"
   ]
  },
  {
   "cell_type": "markdown",
   "metadata": {},
   "source": [
    "- 인접 관광지의 통계량 확인"
   ]
  },
  {
   "cell_type": "code",
   "execution_count": null,
   "metadata": {},
   "outputs": [
    {
     "data": {
      "text/html": [
       "<div>\n",
       "<style scoped>\n",
       "    .dataframe tbody tr th:only-of-type {\n",
       "        vertical-align: middle;\n",
       "    }\n",
       "\n",
       "    .dataframe tbody tr th {\n",
       "        vertical-align: top;\n",
       "    }\n",
       "\n",
       "    .dataframe thead th {\n",
       "        text-align: right;\n",
       "    }\n",
       "</style>\n",
       "<table border=\"1\" class=\"dataframe\">\n",
       "  <thead>\n",
       "    <tr style=\"text-align: right;\">\n",
       "      <th></th>\n",
       "      <th>adjacent_tour</th>\n",
       "      <th>adjacent_rest</th>\n",
       "      <th>adjacent_cafe</th>\n",
       "    </tr>\n",
       "  </thead>\n",
       "  <tbody>\n",
       "    <tr>\n",
       "      <th>count</th>\n",
       "      <td>3008.000000</td>\n",
       "      <td>3008.000000</td>\n",
       "      <td>3008.000000</td>\n",
       "    </tr>\n",
       "    <tr>\n",
       "      <th>mean</th>\n",
       "      <td>21.706117</td>\n",
       "      <td>155.068484</td>\n",
       "      <td>64.712101</td>\n",
       "    </tr>\n",
       "    <tr>\n",
       "      <th>std</th>\n",
       "      <td>6.499756</td>\n",
       "      <td>109.871119</td>\n",
       "      <td>49.360010</td>\n",
       "    </tr>\n",
       "    <tr>\n",
       "      <th>min</th>\n",
       "      <td>0.000000</td>\n",
       "      <td>0.000000</td>\n",
       "      <td>0.000000</td>\n",
       "    </tr>\n",
       "    <tr>\n",
       "      <th>25%</th>\n",
       "      <td>18.000000</td>\n",
       "      <td>68.750000</td>\n",
       "      <td>31.000000</td>\n",
       "    </tr>\n",
       "    <tr>\n",
       "      <th>50%</th>\n",
       "      <td>21.000000</td>\n",
       "      <td>126.000000</td>\n",
       "      <td>45.500000</td>\n",
       "    </tr>\n",
       "    <tr>\n",
       "      <th>75%</th>\n",
       "      <td>27.000000</td>\n",
       "      <td>212.000000</td>\n",
       "      <td>90.000000</td>\n",
       "    </tr>\n",
       "    <tr>\n",
       "      <th>max</th>\n",
       "      <td>42.000000</td>\n",
       "      <td>389.000000</td>\n",
       "      <td>179.000000</td>\n",
       "    </tr>\n",
       "  </tbody>\n",
       "</table>\n",
       "</div>"
      ],
      "text/plain": [
       "       adjacent_tour  adjacent_rest  adjacent_cafe\n",
       "count    3008.000000    3008.000000    3008.000000\n",
       "mean       21.706117     155.068484      64.712101\n",
       "std         6.499756     109.871119      49.360010\n",
       "min         0.000000       0.000000       0.000000\n",
       "25%        18.000000      68.750000      31.000000\n",
       "50%        21.000000     126.000000      45.500000\n",
       "75%        27.000000     212.000000      90.000000\n",
       "max        42.000000     389.000000     179.000000"
      ]
     },
     "metadata": {},
     "output_type": "display_data"
    }
   ],
   "source": [
    "jeju_poi_adjacent[['adjacent_tour', 'adjacent_rest', 'adjacent_cafe']].describe()"
   ]
  },
  {
   "cell_type": "markdown",
   "metadata": {},
   "source": [
    "- 인접 관광지의 히스토그램 확인\n",
    "  - `adjacent_tour`는 분포가 정규분포에 가깝다.\n",
    "  - `adjacent_rest`, `adjacent_cafe`는 불균형이 존재한다."
   ]
  },
  {
   "cell_type": "code",
   "execution_count": null,
   "metadata": {},
   "outputs": [
    {
     "data": {
      "image/png": "[encoded data removed]",
      "text/plain": [
       "<Figure size 1080x360 with 3 Axes>"
      ]
     },
     "metadata": {},
     "output_type": "display_data"
    }
   ],
   "source": [
    "jeju_poi_adjacent[['adjacent_tour', 'adjacent_rest', 'adjacent_cafe']].hist(layout=(1, 3), figsize=(15, 5));"
   ]
  }
 ],
 "metadata": {
  "language_info": {
   "name": "python"
  },
  "orig_nbformat": 4
 },
 "nbformat": 4,
 "nbformat_minor": 2
}
