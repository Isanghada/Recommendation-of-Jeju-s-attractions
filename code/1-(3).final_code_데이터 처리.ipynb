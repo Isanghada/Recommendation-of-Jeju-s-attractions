{
 "cells": [
  {
   "cell_type": "markdown",
   "metadata": {},
   "source": [
    "# 데이터처리"
   ]
  },
  {
   "cell_type": "markdown",
   "metadata": {},
   "source": [
    "- 데이터 잘못된 이미지 삭제"
   ]
  },
  {
   "cell_type": "code",
   "execution_count": null,
   "metadata": {},
   "outputs": [
    {
     "data": {
      "text/html": [
       "<div>\n",
       "<style scoped>\n",
       "    .dataframe tbody tr th:only-of-type {\n",
       "        vertical-align: middle;\n",
       "    }\n",
       "\n",
       "    .dataframe tbody tr th {\n",
       "        vertical-align: top;\n",
       "    }\n",
       "\n",
       "    .dataframe thead th {\n",
       "        text-align: right;\n",
       "    }\n",
       "</style>\n",
       "<table border=\"1\" class=\"dataframe\">\n",
       "  <thead>\n",
       "    <tr style=\"text-align: right;\">\n",
       "      <th></th>\n",
       "      <th>keyword</th>\n",
       "      <th>address_name</th>\n",
       "      <th>category_group_code</th>\n",
       "      <th>category_group_name</th>\n",
       "      <th>category_name</th>\n",
       "      <th>distance</th>\n",
       "      <th>id</th>\n",
       "      <th>phone</th>\n",
       "      <th>place_name</th>\n",
       "      <th>place_url</th>\n",
       "      <th>road_address_name</th>\n",
       "      <th>x</th>\n",
       "      <th>y</th>\n",
       "      <th>rating</th>\n",
       "      <th>img_link</th>\n",
       "    </tr>\n",
       "  </thead>\n",
       "  <tbody>\n",
       "    <tr>\n",
       "      <th>0</th>\n",
       "      <td>테마파크</td>\n",
       "      <td>제주특별자치도 제주시 연동 1320</td>\n",
       "      <td>CT1</td>\n",
       "      <td>관광명소</td>\n",
       "      <td>문화,예술 &gt; 문화시설 &gt; 박물관</td>\n",
       "      <td>NaN</td>\n",
       "      <td>26388484</td>\n",
       "      <td>064-742-3700</td>\n",
       "      <td>수목원테마파크 아이스뮤지엄</td>\n",
       "      <td>http://place.map.kakao.com/26388484</td>\n",
       "      <td>제주특별자치도 제주시 은수길 69</td>\n",
       "      <td>126.488398</td>\n",
       "      <td>33.470777</td>\n",
       "      <td>1.0</td>\n",
       "      <td>https://img1.kakaocdn.net/relay/local/R640x320...</td>\n",
       "    </tr>\n",
       "  </tbody>\n",
       "</table>\n",
       "</div>"
      ],
      "text/plain": [
       "  keyword         address_name category_group_code category_group_name  \\\n",
       "0    테마파크  제주특별자치도 제주시 연동 1320                 CT1                관광명소   \n",
       "\n",
       "        category_name  distance        id         phone      place_name  \\\n",
       "0  문화,예술 > 문화시설 > 박물관       NaN  26388484  064-742-3700  수목원테마파크 아이스뮤지엄   \n",
       "\n",
       "                             place_url   road_address_name           x  \\\n",
       "0  http://place.map.kakao.com/26388484  제주특별자치도 제주시 은수길 69  126.488398   \n",
       "\n",
       "           y  rating                                           img_link  \n",
       "0  33.470777     1.0  https://img1.kakaocdn.net/relay/local/R640x320...  "
      ]
     },
     "metadata": {},
     "output_type": "display_data"
    }
   ],
   "source": [
    "import pandas as pd\n",
    "\n",
    "jeju_poi = pd.read_excel('./data/220118/_제주도_POI_have_image.xlsx', index_col=0)\n",
    "\n",
    "jeju_poi.head(1)"
   ]
  },
  {
   "cell_type": "markdown",
   "metadata": {},
   "source": [
    "## 1. 사용할 이미지 확인\n",
    "- 로고, 장소와 다른 이미지를 삭제하고 남은 이미지 확인\n",
    "  - 파일명 : (idx)_(plac ename).jpg\n",
    "- .jpg를 삭제하고 '_'를 기준으로 split"
   ]
  },
  {
   "cell_type": "code",
   "execution_count": null,
   "metadata": {},
   "outputs": [
    {
     "name": "stdout",
     "output_type": "stream",
     "text": [
      "관광명소\n",
      "음식점\n",
      "카페\n"
     ]
    }
   ],
   "source": [
    "import os\n",
    "\n",
    "path = './data/220118/_제주도_POI_IMAGE/'\n",
    "use_idx = []\n",
    "for dir_name in os.listdir(path):\n",
    "    print(dir_name)\n",
    "    for image in os.listdir(path + dir_name):\n",
    "        image = image.replace('.jpg', '')\n",
    "        idx, p_name = image.split('_')\n",
    "        use_idx.append(int(idx))"
   ]
  },
  {
   "cell_type": "code",
   "execution_count": null,
   "metadata": {},
   "outputs": [
    {
     "data": {
      "text/plain": [
       "([0, 1031, 1032, 1035, 1036, 1037, 1039, 1045, 1046, 1047], 2306)"
      ]
     },
     "metadata": {},
     "output_type": "display_data"
    }
   ],
   "source": [
    "use_idx[:10], len(use_idx)"
   ]
  },
  {
   "cell_type": "markdown",
   "metadata": {},
   "source": [
    "## 2. 남은 이미지만 사용\n",
    "- use_idx를 이용하여 해당하는 인덱스만 사용"
   ]
  },
  {
   "cell_type": "code",
   "execution_count": null,
   "metadata": {},
   "outputs": [],
   "source": [
    "use_idx.sort()"
   ]
  },
  {
   "cell_type": "code",
   "execution_count": null,
   "metadata": {},
   "outputs": [],
   "source": [
    "jeju_use = jeju_poi.loc[use_idx, :].copy()"
   ]
  },
  {
   "cell_type": "code",
   "execution_count": null,
   "metadata": {},
   "outputs": [
    {
     "name": "stdout",
     "output_type": "stream",
     "text": [
      "<class 'pandas.core.frame.DataFrame'>\n",
      "Int64Index: 2306 entries, 0 to 5740\n",
      "Data columns (total 15 columns):\n",
      " #   Column               Non-Null Count  Dtype  \n",
      "---  ------               --------------  -----  \n",
      " 0   keyword              2306 non-null   object \n",
      " 1   address_name         2306 non-null   object \n",
      " 2   category_group_code  2306 non-null   object \n",
      " 3   category_group_name  2306 non-null   object \n",
      " 4   category_name        2306 non-null   object \n",
      " 5   distance             0 non-null      float64\n",
      " 6   id                   2306 non-null   int64  \n",
      " 7   phone                1588 non-null   object \n",
      " 8   place_name           2306 non-null   object \n",
      " 9   place_url            2306 non-null   object \n",
      " 10  road_address_name    1989 non-null   object \n",
      " 11  x                    2306 non-null   float64\n",
      " 12  y                    2306 non-null   float64\n",
      " 13  rating               2306 non-null   float64\n",
      " 14  img_link             2306 non-null   object \n",
      "dtypes: float64(4), int64(1), object(10)\n",
      "memory usage: 288.2+ KB\n"
     ]
    }
   ],
   "source": [
    "jeju_use.info()"
   ]
  },
  {
   "cell_type": "code",
   "execution_count": null,
   "metadata": {},
   "outputs": [
    {
     "data": {
      "text/html": [
       "<div>\n",
       "<style scoped>\n",
       "    .dataframe tbody tr th:only-of-type {\n",
       "        vertical-align: middle;\n",
       "    }\n",
       "\n",
       "    .dataframe tbody tr th {\n",
       "        vertical-align: top;\n",
       "    }\n",
       "\n",
       "    .dataframe thead th {\n",
       "        text-align: right;\n",
       "    }\n",
       "</style>\n",
       "<table border=\"1\" class=\"dataframe\">\n",
       "  <thead>\n",
       "    <tr style=\"text-align: right;\">\n",
       "      <th></th>\n",
       "      <th>keyword</th>\n",
       "      <th>address_name</th>\n",
       "      <th>category_group_code</th>\n",
       "      <th>category_group_name</th>\n",
       "      <th>category_name</th>\n",
       "      <th>distance</th>\n",
       "      <th>id</th>\n",
       "      <th>phone</th>\n",
       "      <th>place_name</th>\n",
       "      <th>place_url</th>\n",
       "      <th>road_address_name</th>\n",
       "      <th>x</th>\n",
       "      <th>y</th>\n",
       "      <th>rating</th>\n",
       "      <th>img_link</th>\n",
       "    </tr>\n",
       "  </thead>\n",
       "  <tbody>\n",
       "    <tr>\n",
       "      <th>0</th>\n",
       "      <td>테마파크</td>\n",
       "      <td>제주특별자치도 제주시 연동 1320</td>\n",
       "      <td>CT1</td>\n",
       "      <td>관광명소</td>\n",
       "      <td>문화,예술 &gt; 문화시설 &gt; 박물관</td>\n",
       "      <td>NaN</td>\n",
       "      <td>26388484</td>\n",
       "      <td>064-742-3700</td>\n",
       "      <td>수목원테마파크 아이스뮤지엄</td>\n",
       "      <td>http://place.map.kakao.com/26388484</td>\n",
       "      <td>제주특별자치도 제주시 은수길 69</td>\n",
       "      <td>126.488398</td>\n",
       "      <td>33.470777</td>\n",
       "      <td>1.0</td>\n",
       "      <td>https://img1.kakaocdn.net/relay/local/R640x320...</td>\n",
       "    </tr>\n",
       "  </tbody>\n",
       "</table>\n",
       "</div>"
      ],
      "text/plain": [
       "  keyword         address_name category_group_code category_group_name  \\\n",
       "0    테마파크  제주특별자치도 제주시 연동 1320                 CT1                관광명소   \n",
       "\n",
       "        category_name  distance        id         phone      place_name  \\\n",
       "0  문화,예술 > 문화시설 > 박물관       NaN  26388484  064-742-3700  수목원테마파크 아이스뮤지엄   \n",
       "\n",
       "                             place_url   road_address_name           x  \\\n",
       "0  http://place.map.kakao.com/26388484  제주특별자치도 제주시 은수길 69  126.488398   \n",
       "\n",
       "           y  rating                                           img_link  \n",
       "0  33.470777     1.0  https://img1.kakaocdn.net/relay/local/R640x320...  "
      ]
     },
     "metadata": {},
     "output_type": "display_data"
    }
   ],
   "source": [
    "jeju_use.head(1)"
   ]
  },
  {
   "cell_type": "code",
   "execution_count": null,
   "metadata": {},
   "outputs": [],
   "source": [
    "# 데이터 저장\n",
    "jeju_use.to_excel('./data/220118/_제주도_POI_final_use.xlsx')"
   ]
  },
  {
   "cell_type": "markdown",
   "metadata": {},
   "source": [
    "## 3. 이미지 RESIZE\n",
    "- 이미지의 크기가 다르기 때문에 동일한 크기로 조절\n",
    "  - 사이즈 : (224, 224)"
   ]
  },
  {
   "cell_type": "markdown",
   "metadata": {},
   "source": [
    "### 3-(1). 이미지 Path 확인\n",
    "- 폴더별로 이미지가 나누어져 있으므로 폴더를 key 값으로 dict형 구성"
   ]
  },
  {
   "cell_type": "code",
   "execution_count": null,
   "metadata": {},
   "outputs": [
    {
     "name": "stdout",
     "output_type": "stream",
     "text": [
      "관광명소\n",
      "음식점\n",
      "카페\n"
     ]
    }
   ],
   "source": [
    "import os\n",
    "\n",
    "path = './data/220118/_제주도_POI_IMAGE/'\n",
    "image_path = {'관광명소' : [], '음식점' : [], '카페' : []}\n",
    "for dir_name in os.listdir(path):\n",
    "    print(dir_name)\n",
    "    for image in os.listdir(path + dir_name):\n",
    "        image_path[dir_name].append(path + dir_name + '/' + image)"
   ]
  },
  {
   "cell_type": "code",
   "execution_count": null,
   "metadata": {},
   "outputs": [
    {
     "data": {
      "text/plain": [
       "(['./data/220118/_제주도_POI_IMAGE/관광명소/0_수목원테마파크 아이스뮤지엄.jpg',\n",
       "  './data/220118/_제주도_POI_IMAGE/관광명소/1031_메이즈랜드.jpg'],\n",
       " ['./data/220118/_제주도_POI_IMAGE/음식점/1003_화랑스시.jpg',\n",
       "  './data/220118/_제주도_POI_IMAGE/음식점/1005_폭폭.jpg'],\n",
       " ['./data/220118/_제주도_POI_IMAGE/카페/1014_퍼시몬.jpg',\n",
       "  './data/220118/_제주도_POI_IMAGE/카페/1020_플로레종.jpg'])"
      ]
     },
     "metadata": {},
     "output_type": "display_data"
    }
   ],
   "source": [
    "image_path['관광명소'][:2], image_path['음식점'][:2], image_path['카페'][:2]"
   ]
  },
  {
   "cell_type": "markdown",
   "metadata": {},
   "source": [
    "### 3-(2). 이미지 Resize"
   ]
  },
  {
   "cell_type": "markdown",
   "metadata": {},
   "source": [
    "### ◽PIL 사용\n",
    "- jpg의 경우 중간에 오류가 발생하여 png로 변경"
   ]
  },
  {
   "cell_type": "code",
   "execution_count": null,
   "metadata": {},
   "outputs": [],
   "source": [
    "from PIL import Image\n",
    "\n",
    "home = 'C:/Users/Isanghada/Desktop/테스트/'\n",
    "for kind in image_path.keys():\n",
    "    for image in image_path[kind]:    \n",
    "        name = image.split('/')[-1]\n",
    "        img = Image.open(image)\n",
    "        img.resize((224, 224)).save(home+kind+'/'+name[:-3]+'png', 'png')"
   ]
  },
  {
   "cell_type": "markdown",
   "metadata": {},
   "source": [
    "## 4. 이미지 이름 변경\n",
    "- 제주시, 서귀포시 이미지 합치기\n",
    "- idx_장소명 -> id_장소명으로 변경``"
   ]
  },
  {
   "cell_type": "code",
   "execution_count": null,
   "metadata": {},
   "outputs": [
    {
     "data": {
      "text/html": [
       "<div>\n",
       "<style scoped>\n",
       "    .dataframe tbody tr th:only-of-type {\n",
       "        vertical-align: middle;\n",
       "    }\n",
       "\n",
       "    .dataframe tbody tr th {\n",
       "        vertical-align: top;\n",
       "    }\n",
       "\n",
       "    .dataframe thead th {\n",
       "        text-align: right;\n",
       "    }\n",
       "</style>\n",
       "<table border=\"1\" class=\"dataframe\">\n",
       "  <thead>\n",
       "    <tr style=\"text-align: right;\">\n",
       "      <th></th>\n",
       "      <th>idx</th>\n",
       "      <th>keyword</th>\n",
       "      <th>address_name</th>\n",
       "      <th>category_group_name</th>\n",
       "      <th>category_name</th>\n",
       "      <th>id</th>\n",
       "      <th>place_name</th>\n",
       "      <th>x</th>\n",
       "      <th>y</th>\n",
       "      <th>rating</th>\n",
       "      <th>kind</th>\n",
       "    </tr>\n",
       "  </thead>\n",
       "  <tbody>\n",
       "    <tr>\n",
       "      <th>0</th>\n",
       "      <td>0</td>\n",
       "      <td>테마파크</td>\n",
       "      <td>제주특별자치도 제주시 연동 1320</td>\n",
       "      <td>관광명소</td>\n",
       "      <td>문화,예술 &gt; 문화시설 &gt; 박물관</td>\n",
       "      <td>26388484</td>\n",
       "      <td>수목원테마파크 아이스뮤지엄</td>\n",
       "      <td>126.488398</td>\n",
       "      <td>33.470777</td>\n",
       "      <td>1.0</td>\n",
       "      <td>제주시</td>\n",
       "    </tr>\n",
       "  </tbody>\n",
       "</table>\n",
       "</div>"
      ],
      "text/plain": [
       "  idx keyword         address_name category_group_name       category_name  \\\n",
       "0   0    테마파크  제주특별자치도 제주시 연동 1320                관광명소  문화,예술 > 문화시설 > 박물관   \n",
       "\n",
       "         id      place_name           x          y  rating kind  \n",
       "0  26388484  수목원테마파크 아이스뮤지엄  126.488398  33.470777     1.0  제주시  "
      ]
     },
     "metadata": {},
     "output_type": "display_data"
    }
   ],
   "source": [
    "# 데이터 읽기\n",
    "import pandas as pd\n",
    "\n",
    "poi_df = pd.read_excel('./data/220122/_종합_POI.xlsx', index_col=False)\n",
    "poi_df['idx'] = poi_df['idx'].astype('str')\n",
    "\n",
    "poi_df.head(1)"
   ]
  },
  {
   "cell_type": "code",
   "execution_count": null,
   "metadata": {},
   "outputs": [
    {
     "name": "stdout",
     "output_type": "stream",
     "text": [
      "<class 'pandas.core.frame.DataFrame'>\n",
      "RangeIndex: 3008 entries, 0 to 3007\n",
      "Data columns (total 11 columns):\n",
      " #   Column               Non-Null Count  Dtype  \n",
      "---  ------               --------------  -----  \n",
      " 0   idx                  3008 non-null   object \n",
      " 1   keyword              3008 non-null   object \n",
      " 2   address_name         3008 non-null   object \n",
      " 3   category_group_name  3008 non-null   object \n",
      " 4   category_name        3008 non-null   object \n",
      " 5   id                   3008 non-null   int64  \n",
      " 6   place_name           3008 non-null   object \n",
      " 7   x                    3008 non-null   float64\n",
      " 8   y                    3008 non-null   float64\n",
      " 9   rating               3008 non-null   float64\n",
      " 10  kind                 3008 non-null   object \n",
      "dtypes: float64(3), int64(1), object(7)\n",
      "memory usage: 258.6+ KB\n"
     ]
    }
   ],
   "source": [
    "poi_df.info()"
   ]
  },
  {
   "cell_type": "markdown",
   "metadata": {},
   "source": [
    "### 4-(1). 이미지 이름 변경\n",
    "- 제주시, 서귀포시 => 통합\n",
    "- shutil을 사용하여 이미지 복사 (idx_장소명 -> id_장소명)"
   ]
  },
  {
   "cell_type": "code",
   "execution_count": null,
   "metadata": {},
   "outputs": [
    {
     "name": "stdout",
     "output_type": "stream",
     "text": [
      "제주시 ------------------\n",
      "관광명소\n",
      "음식점\n",
      "카페\n",
      "-----------------------------------\n",
      "서귀포시 ------------------\n",
      "관광명소\n",
      "음식점\n",
      "카페\n",
      "-----------------------------------\n"
     ]
    }
   ],
   "source": [
    "import os\n",
    "import shutil\n",
    "\n",
    "home_path = 'C:/Users/Isanghada/Desktop/이미지/'\n",
    "kinds = ['제주시', '서귀포시']\n",
    "move = '통합'\n",
    "dict_idx = {i : 0 for i in range(6000)}\n",
    "for kind in kinds:\n",
    "    print(kind,'------------------')\n",
    "    for dir_name in os.listdir(home_path+kind):\n",
    "        print(dir_name)\n",
    "        for file in os.listdir(home_path+kind+'/'+dir_name):\n",
    "            p_idx, p_name = file.replace('.png', '').split('_')\n",
    "            try:\n",
    "                p_id = poi_df.query(f'idx == \"{p_idx}\"')['id'].values[dict_idx[int(p_idx)]]\n",
    "            except :\n",
    "                print(p_idx, p_name, kind, dir_name)\n",
    "                continue\n",
    "            dict_idx[int(p_idx)] += 1\n",
    "            p_file = str(p_id)+'_'+p_name+'.png'\n",
    "            shutil.copy(home_path+kind+'/'+dir_name+'/'+file, home_path+move+'/'+dir_name+'/'+p_file)\n",
    "    print('-----------------------------------')\n"
   ]
  },
  {
   "cell_type": "markdown",
   "metadata": {},
   "source": [
    "## 5. 자연어 처리 : 코사인 유사도"
   ]
  },
  {
   "cell_type": "markdown",
   "metadata": {},
   "source": [
    "- 자연어 처리"
   ]
  },
  {
   "cell_type": "code",
   "execution_count": null,
   "metadata": {},
   "outputs": [
    {
     "name": "stdout",
     "output_type": "stream",
     "text": [
      "<class 'pandas.core.frame.DataFrame'>\n",
      "RangeIndex: 3008 entries, 0 to 3007\n",
      "Data columns (total 11 columns):\n",
      " #   Column               Non-Null Count  Dtype  \n",
      "---  ------               --------------  -----  \n",
      " 0   idx                  3008 non-null   int64  \n",
      " 1   keyword              3008 non-null   object \n",
      " 2   address_name         3008 non-null   object \n",
      " 3   category_group_name  3008 non-null   object \n",
      " 4   category_name        3008 non-null   object \n",
      " 5   id                   3008 non-null   int64  \n",
      " 6   place_name           3008 non-null   object \n",
      " 7   x                    3008 non-null   float64\n",
      " 8   y                    3008 non-null   float64\n",
      " 9   rating               3008 non-null   float64\n",
      " 10  kind                 3008 non-null   object \n",
      "dtypes: float64(3), int64(2), object(6)\n",
      "memory usage: 258.6+ KB\n"
     ]
    }
   ],
   "source": [
    "# 1. 데이터 읽기\n",
    "import pandas as pd\n",
    "\n",
    "jeju_poi = pd.read_excel('./data/220122/_종합_POI.xlsx', index_col=False)\n",
    "\n",
    "jeju_poi.info()"
   ]
  },
  {
   "cell_type": "code",
   "execution_count": null,
   "metadata": {},
   "outputs": [
    {
     "data": {
      "text/html": [
       "<div>\n",
       "<style scoped>\n",
       "    .dataframe tbody tr th:only-of-type {\n",
       "        vertical-align: middle;\n",
       "    }\n",
       "\n",
       "    .dataframe tbody tr th {\n",
       "        vertical-align: top;\n",
       "    }\n",
       "\n",
       "    .dataframe thead th {\n",
       "        text-align: right;\n",
       "    }\n",
       "</style>\n",
       "<table border=\"1\" class=\"dataframe\">\n",
       "  <thead>\n",
       "    <tr style=\"text-align: right;\">\n",
       "      <th></th>\n",
       "      <th>idx</th>\n",
       "      <th>keyword</th>\n",
       "      <th>address_name</th>\n",
       "      <th>category_group_name</th>\n",
       "      <th>category_name</th>\n",
       "      <th>id</th>\n",
       "      <th>place_name</th>\n",
       "      <th>x</th>\n",
       "      <th>y</th>\n",
       "      <th>rating</th>\n",
       "      <th>kind</th>\n",
       "    </tr>\n",
       "  </thead>\n",
       "  <tbody>\n",
       "    <tr>\n",
       "      <th>0</th>\n",
       "      <td>0</td>\n",
       "      <td>테마파크</td>\n",
       "      <td>제주특별자치도 제주시 연동 1320</td>\n",
       "      <td>관광명소</td>\n",
       "      <td>문화,예술 &gt; 문화시설 &gt; 박물관</td>\n",
       "      <td>26388484</td>\n",
       "      <td>수목원테마파크 아이스뮤지엄</td>\n",
       "      <td>126.488398</td>\n",
       "      <td>33.470777</td>\n",
       "      <td>1.0</td>\n",
       "      <td>제주시</td>\n",
       "    </tr>\n",
       "  </tbody>\n",
       "</table>\n",
       "</div>"
      ],
      "text/plain": [
       "   idx keyword         address_name category_group_name       category_name  \\\n",
       "0    0    테마파크  제주특별자치도 제주시 연동 1320                관광명소  문화,예술 > 문화시설 > 박물관   \n",
       "\n",
       "         id      place_name           x          y  rating kind  \n",
       "0  26388484  수목원테마파크 아이스뮤지엄  126.488398  33.470777     1.0  제주시  "
      ]
     },
     "metadata": {},
     "output_type": "display_data"
    }
   ],
   "source": [
    "jeju_poi.head(1)"
   ]
  },
  {
   "cell_type": "markdown",
   "metadata": {},
   "source": [
    "### 5-(1). 자연어 선택\n",
    "- keyword와 category_group_name 사용"
   ]
  },
  {
   "cell_type": "code",
   "execution_count": null,
   "metadata": {},
   "outputs": [
    {
     "data": {
      "text/plain": [
       "['테마파크', '분위기 좋은', '오션뷰', '가족여행', '가볼만한 곳', '체험', '레포츠', '맛집', '감성']"
      ]
     },
     "metadata": {},
     "output_type": "display_data"
    }
   ],
   "source": [
    "keywords = set()\n",
    "for keyword in jeju_poi['keyword'].unique():\n",
    "    for k in keyword.split(','):\n",
    "        keywords.add(k)\n",
    "keywords = list(keywords)\n",
    "\n",
    "keywords"
   ]
  },
  {
   "cell_type": "code",
   "execution_count": null,
   "metadata": {},
   "outputs": [
    {
     "data": {
      "text/plain": [
       "['관광명소', '음식점', '카페']"
      ]
     },
     "metadata": {},
     "output_type": "display_data"
    }
   ],
   "source": [
    "groups = []\n",
    "\n",
    "for category in jeju_poi['category_group_name'].unique():\n",
    "    groups.append(category)\n",
    "\n",
    "groups"
   ]
  },
  {
   "cell_type": "code",
   "execution_count": null,
   "metadata": {},
   "outputs": [
    {
     "data": {
      "text/html": [
       "<div>\n",
       "<style scoped>\n",
       "    .dataframe tbody tr th:only-of-type {\n",
       "        vertical-align: middle;\n",
       "    }\n",
       "\n",
       "    .dataframe tbody tr th {\n",
       "        vertical-align: top;\n",
       "    }\n",
       "\n",
       "    .dataframe thead th {\n",
       "        text-align: right;\n",
       "    }\n",
       "</style>\n",
       "<table border=\"1\" class=\"dataframe\">\n",
       "  <thead>\n",
       "    <tr style=\"text-align: right;\">\n",
       "      <th></th>\n",
       "      <th>id</th>\n",
       "      <th>place_name</th>\n",
       "      <th>keyword</th>\n",
       "      <th>category_group_name</th>\n",
       "    </tr>\n",
       "  </thead>\n",
       "  <tbody>\n",
       "    <tr>\n",
       "      <th>0</th>\n",
       "      <td>26388484</td>\n",
       "      <td>수목원테마파크 아이스뮤지엄</td>\n",
       "      <td>테마파크</td>\n",
       "      <td>관광명소</td>\n",
       "    </tr>\n",
       "  </tbody>\n",
       "</table>\n",
       "</div>"
      ],
      "text/plain": [
       "         id      place_name keyword category_group_name\n",
       "0  26388484  수목원테마파크 아이스뮤지엄    테마파크                관광명소"
      ]
     },
     "metadata": {},
     "output_type": "display_data"
    }
   ],
   "source": [
    "jeju_poi[['id', 'place_name', 'keyword', 'category_group_name']].head(1)"
   ]
  },
  {
   "cell_type": "markdown",
   "metadata": {},
   "source": [
    "### 5-(2). content 만들기\n",
    "- keyword와 category_group_name를 합쳐 content 컬럼을 추가한다.\n",
    "  - 자연어를 이용한 유사도 측정을 위해"
   ]
  },
  {
   "cell_type": "code",
   "execution_count": null,
   "metadata": {},
   "outputs": [
    {
     "data": {
      "application/vnd.jupyter.widget-view+json": {
       "model_id": "8a5cdc62c00648f3bda4af7ca5c28257",
       "version_major": 2,
       "version_minor": 0
      },
      "text/plain": [
       "0it [00:00, ?it/s]"
      ]
     },
     "metadata": {},
     "output_type": "display_data"
    }
   ],
   "source": [
    "from tqdm.notebook import tqdm\n",
    "jeju_poi['content'] = ''\n",
    "\n",
    "for idx, row in tqdm(jeju_poi.iterrows()):\n",
    "    content = (row['keyword']+','+row['category_group_name']).replace(' ', '').replace(',', ' ')\n",
    "    jeju_poi.loc[idx, 'content'] = content"
   ]
  },
  {
   "cell_type": "code",
   "execution_count": null,
   "metadata": {},
   "outputs": [
    {
     "data": {
      "text/html": [
       "<div>\n",
       "<style scoped>\n",
       "    .dataframe tbody tr th:only-of-type {\n",
       "        vertical-align: middle;\n",
       "    }\n",
       "\n",
       "    .dataframe tbody tr th {\n",
       "        vertical-align: top;\n",
       "    }\n",
       "\n",
       "    .dataframe thead th {\n",
       "        text-align: right;\n",
       "    }\n",
       "</style>\n",
       "<table border=\"1\" class=\"dataframe\">\n",
       "  <thead>\n",
       "    <tr style=\"text-align: right;\">\n",
       "      <th></th>\n",
       "      <th>id</th>\n",
       "      <th>place_name</th>\n",
       "      <th>keyword</th>\n",
       "      <th>category_group_name</th>\n",
       "      <th>content</th>\n",
       "    </tr>\n",
       "  </thead>\n",
       "  <tbody>\n",
       "    <tr>\n",
       "      <th>0</th>\n",
       "      <td>26388484</td>\n",
       "      <td>수목원테마파크 아이스뮤지엄</td>\n",
       "      <td>테마파크</td>\n",
       "      <td>관광명소</td>\n",
       "      <td>테마파크 관광명소</td>\n",
       "    </tr>\n",
       "    <tr>\n",
       "      <th>1</th>\n",
       "      <td>1129394481</td>\n",
       "      <td>고스트타운</td>\n",
       "      <td>테마파크,가볼만한 곳</td>\n",
       "      <td>관광명소</td>\n",
       "      <td>테마파크 가볼만한곳 관광명소</td>\n",
       "    </tr>\n",
       "  </tbody>\n",
       "</table>\n",
       "</div>"
      ],
      "text/plain": [
       "           id      place_name      keyword category_group_name  \\\n",
       "0    26388484  수목원테마파크 아이스뮤지엄         테마파크                관광명소   \n",
       "1  1129394481           고스트타운  테마파크,가볼만한 곳                관광명소   \n",
       "\n",
       "           content  \n",
       "0        테마파크 관광명소  \n",
       "1  테마파크 가볼만한곳 관광명소  "
      ]
     },
     "metadata": {},
     "output_type": "display_data"
    }
   ],
   "source": [
    "jeju_poi[['id', 'place_name', 'keyword', 'category_group_name', 'content']].head(2)"
   ]
  },
  {
   "cell_type": "code",
   "execution_count": null,
   "metadata": {},
   "outputs": [
    {
     "data": {
      "text/plain": [
       "'테마파크 관광명소'"
      ]
     },
     "metadata": {},
     "output_type": "display_data"
    }
   ],
   "source": [
    "jeju_poi.loc[0, 'content']"
   ]
  },
  {
   "cell_type": "code",
   "execution_count": null,
   "metadata": {},
   "outputs": [],
   "source": [
    "jeju_poi.to_excel('./data/220123/_종합_POI_content.xlsx', index=False)"
   ]
  },
  {
   "cell_type": "markdown",
   "metadata": {},
   "source": [
    "### 5-(3). CountVectorizer\n",
    "- 새로 생선한 'content'를 기준으로 CountVectorizer 진행"
   ]
  },
  {
   "cell_type": "code",
   "execution_count": null,
   "metadata": {},
   "outputs": [
    {
     "data": {
      "text/html": [
       "<div>\n",
       "<style scoped>\n",
       "    .dataframe tbody tr th:only-of-type {\n",
       "        vertical-align: middle;\n",
       "    }\n",
       "\n",
       "    .dataframe tbody tr th {\n",
       "        vertical-align: top;\n",
       "    }\n",
       "\n",
       "    .dataframe thead th {\n",
       "        text-align: right;\n",
       "    }\n",
       "</style>\n",
       "<table border=\"1\" class=\"dataframe\">\n",
       "  <thead>\n",
       "    <tr style=\"text-align: right;\">\n",
       "      <th></th>\n",
       "      <th>idx</th>\n",
       "      <th>keyword</th>\n",
       "      <th>address_name</th>\n",
       "      <th>category_group_name</th>\n",
       "      <th>category_name</th>\n",
       "      <th>id</th>\n",
       "      <th>place_name</th>\n",
       "      <th>x</th>\n",
       "      <th>y</th>\n",
       "      <th>rating</th>\n",
       "      <th>kind</th>\n",
       "      <th>content</th>\n",
       "    </tr>\n",
       "  </thead>\n",
       "  <tbody>\n",
       "    <tr>\n",
       "      <th>0</th>\n",
       "      <td>0</td>\n",
       "      <td>테마파크</td>\n",
       "      <td>제주특별자치도 제주시 연동 1320</td>\n",
       "      <td>관광명소</td>\n",
       "      <td>문화,예술 &gt; 문화시설 &gt; 박물관</td>\n",
       "      <td>26388484</td>\n",
       "      <td>수목원테마파크 아이스뮤지엄</td>\n",
       "      <td>126.488398</td>\n",
       "      <td>33.470777</td>\n",
       "      <td>1.0</td>\n",
       "      <td>제주시</td>\n",
       "      <td>테마파크 관광명소</td>\n",
       "    </tr>\n",
       "  </tbody>\n",
       "</table>\n",
       "</div>"
      ],
      "text/plain": [
       "   idx keyword         address_name category_group_name       category_name  \\\n",
       "0    0    테마파크  제주특별자치도 제주시 연동 1320                관광명소  문화,예술 > 문화시설 > 박물관   \n",
       "\n",
       "         id      place_name           x          y  rating kind    content  \n",
       "0  26388484  수목원테마파크 아이스뮤지엄  126.488398  33.470777     1.0  제주시  테마파크 관광명소  "
      ]
     },
     "metadata": {},
     "output_type": "display_data"
    }
   ],
   "source": [
    "import pandas as pd\n",
    "\n",
    "jeju_poi = pd.read_excel('./data/220123/_종합_POI_content.xlsx', index_col=False)\n",
    "\n",
    "jeju_poi.head(1)"
   ]
  },
  {
   "cell_type": "code",
   "execution_count": null,
   "metadata": {},
   "outputs": [
    {
     "data": {
      "text/plain": [
       "(3008, 39)"
      ]
     },
     "metadata": {},
     "output_type": "display_data"
    }
   ],
   "source": [
    "from sklearn.feature_extraction.text import CountVectorizer\n",
    "\n",
    "count_vect = CountVectorizer(min_df=0, ngram_range=(1, 2))\n",
    "content_mat = count_vect.fit_transform(jeju_poi['content'])\n",
    "content_mat.shape"
   ]
  },
  {
   "cell_type": "code",
   "execution_count": null,
   "metadata": {},
   "outputs": [
    {
     "data": {
      "text/plain": [
       "array(['가볼만한곳', '가볼만한곳 관광명소', '가족여행', '가족여행 가볼만한곳', '가족여행 관광명소',\n",
       "       '가족여행 음식점', '감성', '감성 가볼만한곳', '감성 맛집', '감성 음식점', '감성 카페', '관광명소',\n",
       "       '레포츠', '레포츠 가볼만한곳', '맛집', '맛집 감성', '맛집 분위기좋은', '맛집 오션뷰', '맛집 음식점',\n",
       "       '맛집 카페', '분위기좋은', '분위기좋은 감성', '분위기좋은 맛집', '분위기좋은 오션뷰', '분위기좋은 음식점',\n",
       "       '분위기좋은 카페', '오션뷰', '오션뷰 맛집', '오션뷰 음식점', '오션뷰 카페', '음식점', '체험',\n",
       "       '체험 가볼만한곳', '카페', '테마파크', '테마파크 가볼만한곳', '테마파크 관광명소', '테마파크 레포츠',\n",
       "       '테마파크 음식점'], dtype=object)"
      ]
     },
     "metadata": {},
     "output_type": "display_data"
    }
   ],
   "source": [
    "count_vect.get_feature_names_out()"
   ]
  },
  {
   "cell_type": "markdown",
   "metadata": {},
   "source": [
    "### 5-(4). Cosine Similarity\n",
    "- content_mat을 활용하여 코사인 유사도 계산"
   ]
  },
  {
   "cell_type": "code",
   "execution_count": null,
   "metadata": {},
   "outputs": [
    {
     "name": "stdout",
     "output_type": "stream",
     "text": [
      "(3008, 3008)\n",
      "[[1.         0.51639778 0.51639778 ... 0.         0.         0.        ]\n",
      " [0.51639778 1.         1.         ... 0.         0.         0.        ]]\n"
     ]
    }
   ],
   "source": [
    "from sklearn.metrics.pairwise import cosine_similarity\n",
    "\n",
    "content_sim = cosine_similarity(content_mat, content_mat)\n",
    "print(content_sim.shape)\n",
    "print(content_sim[:2])"
   ]
  },
  {
   "cell_type": "markdown",
   "metadata": {},
   "source": [
    "- 인덱스를 이용해 원하는 장소 기준의 cosine similarity 추가하여 사용\n",
    "  - pandas.DataFrame을 사용하여 정렬 및 순위 획득 가능\n",
    "- 아래는 예시"
   ]
  },
  {
   "cell_type": "code",
   "execution_count": null,
   "metadata": {},
   "outputs": [],
   "source": [
    "ex_poi = jeju_poi.copy(deep = True)\n",
    "ex_poi['nl_cosine'] = content_sim[0]"
   ]
  },
  {
   "cell_type": "code",
   "execution_count": null,
   "metadata": {},
   "outputs": [
    {
     "data": {
      "text/html": [
       "<div>\n",
       "<style scoped>\n",
       "    .dataframe tbody tr th:only-of-type {\n",
       "        vertical-align: middle;\n",
       "    }\n",
       "\n",
       "    .dataframe tbody tr th {\n",
       "        vertical-align: top;\n",
       "    }\n",
       "\n",
       "    .dataframe thead th {\n",
       "        text-align: right;\n",
       "    }\n",
       "</style>\n",
       "<table border=\"1\" class=\"dataframe\">\n",
       "  <thead>\n",
       "    <tr style=\"text-align: right;\">\n",
       "      <th></th>\n",
       "      <th>id</th>\n",
       "      <th>place_name</th>\n",
       "      <th>nl_cosine</th>\n",
       "    </tr>\n",
       "  </thead>\n",
       "  <tbody>\n",
       "    <tr>\n",
       "      <th>0</th>\n",
       "      <td>26388484</td>\n",
       "      <td>수목원테마파크 아이스뮤지엄</td>\n",
       "      <td>1.000000</td>\n",
       "    </tr>\n",
       "    <tr>\n",
       "      <th>1</th>\n",
       "      <td>1129394481</td>\n",
       "      <td>고스트타운</td>\n",
       "      <td>0.516398</td>\n",
       "    </tr>\n",
       "    <tr>\n",
       "      <th>2</th>\n",
       "      <td>891104398</td>\n",
       "      <td>제주불빛정원</td>\n",
       "      <td>0.516398</td>\n",
       "    </tr>\n",
       "    <tr>\n",
       "      <th>3</th>\n",
       "      <td>1868828759</td>\n",
       "      <td>9.81파크</td>\n",
       "      <td>0.516398</td>\n",
       "    </tr>\n",
       "    <tr>\n",
       "      <th>4</th>\n",
       "      <td>9401924</td>\n",
       "      <td>제주공룡랜드</td>\n",
       "      <td>0.516398</td>\n",
       "    </tr>\n",
       "  </tbody>\n",
       "</table>\n",
       "</div>"
      ],
      "text/plain": [
       "           id      place_name  nl_cosine\n",
       "0    26388484  수목원테마파크 아이스뮤지엄   1.000000\n",
       "1  1129394481           고스트타운   0.516398\n",
       "2   891104398          제주불빛정원   0.516398\n",
       "3  1868828759          9.81파크   0.516398\n",
       "4     9401924          제주공룡랜드   0.516398"
      ]
     },
     "metadata": {},
     "output_type": "display_data"
    }
   ],
   "source": [
    "ex_poi[['id', 'place_name', 'nl_cosine']].head(5)"
   ]
  },
  {
   "cell_type": "markdown",
   "metadata": {},
   "source": [
    "- 코사인 유사도 array를 저장하여 필요할 때 불러와 사용"
   ]
  },
  {
   "cell_type": "code",
   "execution_count": null,
   "metadata": {},
   "outputs": [],
   "source": [
    "import numpy as np\n",
    "\n",
    "# np.save('./data/220123/_nl_content_sim.npy', content_sim)"
   ]
  },
  {
   "cell_type": "code",
   "execution_count": null,
   "metadata": {},
   "outputs": [
    {
     "data": {
      "text/plain": [
       "array([1.        , 0.51639778, 0.51639778, 0.51639778, 0.51639778])"
      ]
     },
     "metadata": {},
     "output_type": "display_data"
    }
   ],
   "source": [
    "import numpy as np\n",
    "\n",
    "np_file = np.load(file='./data/220123/_nl_content_sim.npy')\n",
    "np_file[0][:5]"
   ]
  }
 ],
 "metadata": {
  "interpreter": {
   "hash": "e8d1aadc86641a503cc85f3c31cf023fc3f320b31f990619997eea29654d4852"
  },
  "kernelspec": {
   "display_name": "Python 3.8.11 64-bit ('ds_study': conda)",
   "language": "python",
   "name": "python3"
  },
  "language_info": {
   "codemirror_mode": {
    "name": "ipython",
    "version": 3
   },
   "file_extension": ".py",
   "mimetype": "text/x-python",
   "name": "python",
   "nbconvert_exporter": "python",
   "pygments_lexer": "ipython3",
   "version": "3.8.11"
  },
  "orig_nbformat": 4
 },
 "nbformat": 4,
 "nbformat_minor": 2
}

 
